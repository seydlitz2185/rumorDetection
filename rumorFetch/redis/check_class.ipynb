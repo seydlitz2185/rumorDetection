{
 "cells": [
  {
   "attachments": {},
   "cell_type": "markdown",
   "metadata": {},
   "source": [
    "- 这段代码用于访问localhost:6379的redis数据库，检查db0中所有名称含有”class“的hash中所有键值对（即存储的用户名——主页）是否匹配\n",
    "- 带有一定的矫正策略：\n",
    "    - 以键为标准删除重复的键值对（重复者以最后一次插入的为准）；\n",
    "    - 请求每一个值对应的页面，尝试获取response中的用户名：\n",
    "        - 若用户名完全不匹配，则检查链接对应的键是否存在：\n",
    "            - 若存在，删除该键值对；\n",
    "            - 若不存在，将键修改为response中的用户名；\n",
    "        - 若用户名部分匹配，则将该键修改为response中获取的用户名；\n"
   ]
  },
  {
   "cell_type": "code",
   "execution_count": 67,
   "metadata": {},
   "outputs": [],
   "source": [
    "import smallLib as helper\n",
    "import re # regular expressions\n",
    "import redis\n",
    "import selenium.webdriver as webdriver\n",
    "from selenium.webdriver.common.by import By\n",
    "from selenium.webdriver.support.wait import WebDriverWait #等待页面加载某些元素\n",
    "from selenium.webdriver.support import expected_conditions as EC\n",
    "from selenium.webdriver.chrome.service import Service\n",
    "import pandas as pd\n",
    "import time\n",
    "#暴露了密码。但是这个密码是弱密码，不是重要的密码，所以就不改了\n",
    "pool = redis.ConnectionPool(host='127.0.0.1',port=6379,db=0,password='123456',decode_responses=True)   \n",
    "r = redis.Redis(connection_pool=pool)"
   ]
  },
  {
   "cell_type": "code",
   "execution_count": 68,
   "metadata": {},
   "outputs": [],
   "source": [
    "keys = r.keys()\n",
    "# 在生产环境中不要使用keys，因为keys会阻塞redis，redis是一个单进程的数据库，所以会阻塞所有的请求\n",
    "def RedisScan(host,port,password,db=0):\n",
    "    client = redis.Redis(host=host,port=port,password=password,db=db)\n",
    "    cursor,counts = 0,0\n",
    "    while True:\n",
    "        cursor,keys = client.scan(cursor,match=\"*\",count=100)\n",
    "        counts += len(keys)\n",
    "        for key in keys:\n",
    "            print(key.decode(\"utf-8\"))\n",
    "        if cursor == 0:\n",
    "            break\n",
    "    print(\"Total Key Number:%s\"%counts)\n",
    "    return  keys\n",
    "\n",
    "#keys = RedisScan(\"127.0.0.1\", 6379, \"123456\", 0)"
   ]
  },
  {
   "cell_type": "code",
   "execution_count": 69,
   "metadata": {},
   "outputs": [],
   "source": [
    "def get_username(url): \n",
    "    r = redis.Redis(connection_pool=pool)\n",
    "    chrome_options =  webdriver.ChromeOptions()\n",
    "    #这一行很关键，让selenium不加载图片，专心爬\n",
    "    chrome_options.add_argument('blink-settings=imagesEnabled=false')\n",
    "    preferences = {\n",
    "        \"webrtc.ip_handling_policy\": \"disable_non_proxied_udp\",\n",
    "        \"webrtc.multiple_routes_enabled\": False,\n",
    "        \"webrtc.nonproxied_udp_enabled\": False\n",
    "    }\n",
    "    chrome_options.add_experimental_option(\"prefs\", preferences)\n",
    "    #打开url\n",
    "    s = Service('C:\\Program Files\\chromedriver\\chromedriver.exe')\n",
    "    driver = webdriver.Chrome(service= s ,options=chrome_options)\n",
    "    #driver.get(\"chrome://version/\",proxies = proxies)\n",
    "    driver.get(url=url)\n",
    "    #此处防止滑动验证码\n",
    "    try:\n",
    "        wait=WebDriverWait(driver,3)\n",
    "        wait.until(EC.presence_of_element_located((By.CLASS_NAME,'captcha-disable-scroll')))\n",
    "        driver.close()\n",
    "        return ''\n",
    "    except:\n",
    "        pass\n",
    "    try:\n",
    "        wait=WebDriverWait(driver,5)\n",
    "        wait.until(EC.presence_of_element_located((By.CLASS_NAME,'dy-account-close')))\n",
    "        a = driver.find_elements(by= By.CLASS_NAME,value=\"dy-account-close\")\n",
    "        time.sleep(1)\n",
    "        if len(a) >0 :\n",
    "            a[0].click()\n",
    "    except:\n",
    "        selector = 'head > title'\n",
    "        name = driver.find_elements(by= By.CSS_SELECTOR, value= selector)\n",
    "        cnt = 0\n",
    "        while cnt < 5 & len(name)== 0 :\n",
    "            cnt +=1 \n",
    "            time.sleep(1)\n",
    "            name = driver.find_elements(by= By.CSS_SELECTOR, value= selector)\n",
    "        \n",
    "        if len(name) == 0:\n",
    "            print(url)\n",
    "        else:\n",
    "            print(name[0].get_attribute('innerHTML'))    \n",
    "        realname = re.findall(r'(.*)的主页',name[0].get_attribute('innerHTML'))[0]\n",
    "        driver.close()\n",
    "        return realname\n",
    "        \n",
    "    #关闭登录弹窗\n",
    "    #获取页面内容\n",
    "    #hint:先取所有的li标签，再取a标签中的href\n",
    "    selector = 'head > title'\n",
    "    name = driver.find_elements(by= By.CSS_SELECTOR, value= selector)\n",
    "    cnt = 0\n",
    "    while cnt < 5 & len(name)== 0 :\n",
    "        cnt +=1 \n",
    "        time.sleep(1)\n",
    "        name = driver.find_elements(by= By.CSS_SELECTOR, value= selector)\n",
    "    \n",
    "    if len(name) == 0:\n",
    "        print(url)\n",
    "    else:\n",
    "        print(name[0].get_attribute('innerHTML'))    \n",
    "    realname = re.findall(r'(.*)的主页',name[0].get_attribute('innerHTML'))[0]\n",
    "    driver.close()\n",
    "    return realname\n"
   ]
  },
  {
   "cell_type": "code",
   "execution_count": 70,
   "metadata": {},
   "outputs": [],
   "source": [
    "dicts = []\n",
    "for key in keys:\n",
    "    if key.startswith(\"class\"):\n",
    "        dicts.append(r.hgetall(key))\n"
   ]
  },
  {
   "cell_type": "code",
   "execution_count": 71,
   "metadata": {},
   "outputs": [
    {
     "name": "stdout",
     "output_type": "stream",
     "text": [
      "医心医意海燕的主页 - 承德医学院附属医院妇产科主治医师 王海艳 - 抖音\n",
      "医路向前巍子的主页 - 北京大学第一医院密云医院急诊外科医师 - 抖音\n",
      "中医谭医生的主页 - 湘潭市中心医院针灸科副主任医师 谭灿灿 - 抖音\n",
      "中医内科吴金荣主任的主页 - 北京中医药大学东直门医院内科主任医师 - 抖音\n",
      "中医黎明的主页 - 山西省中医院中医科主任医师 - 抖音\n"
     ]
    },
    {
     "name": "stderr",
     "output_type": "stream",
     "text": [
      "Exception ignored in: <function Service.__del__ at 0x000001E7AD4BA660>\n",
      "Traceback (most recent call last):\n",
      "  File \"d:\\Anaconda\\envs\\pygptest\\Lib\\site-packages\\selenium\\webdriver\\common\\service.py\", line 183, in __del__\n",
      "    self.stop()\n",
      "  File \"d:\\Anaconda\\envs\\pygptest\\Lib\\site-packages\\selenium\\webdriver\\common\\service.py\", line 149, in stop\n",
      "    self.send_remote_shutdown_command()\n",
      "  File \"d:\\Anaconda\\envs\\pygptest\\Lib\\site-packages\\selenium\\webdriver\\common\\service.py\", line 133, in send_remote_shutdown_command\n",
      "    if not self.is_connectable():\n",
      "           ^^^^^^^^^^^^^^^^^^^^^\n",
      "  File \"d:\\Anaconda\\envs\\pygptest\\Lib\\site-packages\\selenium\\webdriver\\common\\service.py\", line 122, in is_connectable\n",
      "    return utils.is_connectable(self.port)\n",
      "           ^^^^^^^^^^^^^^^^^^^^^^^^^^^^^^^\n",
      "  File \"d:\\Anaconda\\envs\\pygptest\\Lib\\site-packages\\selenium\\webdriver\\common\\utils.py\", line 102, in is_connectable\n",
      "    socket_ = socket.create_connection((host, port), 1)\n",
      "              ^^^^^^^^^^^^^^^^^^^^^^^^^^^^^^^^^^^^^^^^^\n",
      "  File \"d:\\Anaconda\\envs\\pygptest\\Lib\\socket.py\", line 842, in create_connection\n",
      "    exceptions.clear()  # raise only the last error\n",
      "    ^^^^^^^^^^^^^^^^^^\n",
      "KeyboardInterrupt: \n"
     ]
    },
    {
     "ename": "NoSuchWindowException",
     "evalue": "Message: no such window: target window already closed\nfrom unknown error: web view not found\n  (Session info: chrome=109.0.5414.120)\nStacktrace:\nBacktrace:\n\t(No symbol) [0x00386643]\n\t(No symbol) [0x0031BE21]\n\t(No symbol) [0x0021DA9D]\n\t(No symbol) [0x001FEF6A]\n\t(No symbol) [0x00273AAB]\n\t(No symbol) [0x002861B6]\n\t(No symbol) [0x0026FB76]\n\t(No symbol) [0x002449C1]\n\t(No symbol) [0x00245E5D]\n\tGetHandleVerifier [0x005FA142+2497106]\n\tGetHandleVerifier [0x006285D3+2686691]\n\tGetHandleVerifier [0x0062BB9C+2700460]\n\tGetHandleVerifier [0x00433B10+635936]\n\t(No symbol) [0x00324A1F]\n\t(No symbol) [0x0032A418]\n\t(No symbol) [0x0032A505]\n\t(No symbol) [0x0033508B]\n\tBaseThreadInitThunk [0x76A17D69+25]\n\tRtlInitializeExceptionChain [0x77B5BB9B+107]\n\tRtlClearBits [0x77B5BB1F+191]\n",
     "output_type": "error",
     "traceback": [
      "\u001b[1;31m---------------------------------------------------------------------------\u001b[0m",
      "\u001b[1;31mNoSuchWindowException\u001b[0m                     Traceback (most recent call last)",
      "Cell \u001b[1;32mIn[69], line 27\u001b[0m, in \u001b[0;36mget_username\u001b[1;34m(url)\u001b[0m\n\u001b[0;32m     26\u001b[0m wait\u001b[39m=\u001b[39mWebDriverWait(driver,\u001b[39m5\u001b[39m)\n\u001b[1;32m---> 27\u001b[0m wait\u001b[39m.\u001b[39;49muntil(EC\u001b[39m.\u001b[39;49mpresence_of_element_located((By\u001b[39m.\u001b[39;49mCLASS_NAME,\u001b[39m'\u001b[39;49m\u001b[39mdy-account-close\u001b[39;49m\u001b[39m'\u001b[39;49m)))\n\u001b[0;32m     28\u001b[0m a \u001b[39m=\u001b[39m driver\u001b[39m.\u001b[39mfind_elements(by\u001b[39m=\u001b[39m By\u001b[39m.\u001b[39mCLASS_NAME,value\u001b[39m=\u001b[39m\u001b[39m\"\u001b[39m\u001b[39mdy-account-close\u001b[39m\u001b[39m\"\u001b[39m)\n",
      "File \u001b[1;32md:\\Anaconda\\envs\\pygptest\\Lib\\site-packages\\selenium\\webdriver\\support\\wait.py:86\u001b[0m, in \u001b[0;36mWebDriverWait.until\u001b[1;34m(self, method, message)\u001b[0m\n\u001b[0;32m     85\u001b[0m \u001b[39mtry\u001b[39;00m:\n\u001b[1;32m---> 86\u001b[0m     value \u001b[39m=\u001b[39m method(\u001b[39mself\u001b[39;49m\u001b[39m.\u001b[39;49m_driver)\n\u001b[0;32m     87\u001b[0m     \u001b[39mif\u001b[39;00m value:\n",
      "File \u001b[1;32md:\\Anaconda\\envs\\pygptest\\Lib\\site-packages\\selenium\\webdriver\\support\\expected_conditions.py:69\u001b[0m, in \u001b[0;36mpresence_of_element_located.<locals>._predicate\u001b[1;34m(driver)\u001b[0m\n\u001b[0;32m     68\u001b[0m \u001b[39mdef\u001b[39;00m \u001b[39m_predicate\u001b[39m(driver):\n\u001b[1;32m---> 69\u001b[0m     \u001b[39mreturn\u001b[39;00m driver\u001b[39m.\u001b[39;49mfind_element(\u001b[39m*\u001b[39;49mlocator)\n",
      "File \u001b[1;32md:\\Anaconda\\envs\\pygptest\\Lib\\site-packages\\selenium\\webdriver\\remote\\webdriver.py:830\u001b[0m, in \u001b[0;36mWebDriver.find_element\u001b[1;34m(self, by, value)\u001b[0m\n\u001b[0;32m    828\u001b[0m     value \u001b[39m=\u001b[39m \u001b[39mf\u001b[39m\u001b[39m'\u001b[39m\u001b[39m[name=\u001b[39m\u001b[39m\"\u001b[39m\u001b[39m{\u001b[39;00mvalue\u001b[39m}\u001b[39;00m\u001b[39m\"\u001b[39m\u001b[39m]\u001b[39m\u001b[39m'\u001b[39m\n\u001b[1;32m--> 830\u001b[0m \u001b[39mreturn\u001b[39;00m \u001b[39mself\u001b[39;49m\u001b[39m.\u001b[39;49mexecute(Command\u001b[39m.\u001b[39;49mFIND_ELEMENT, {\u001b[39m\"\u001b[39;49m\u001b[39musing\u001b[39;49m\u001b[39m\"\u001b[39;49m: by, \u001b[39m\"\u001b[39;49m\u001b[39mvalue\u001b[39;49m\u001b[39m\"\u001b[39;49m: value})[\u001b[39m\"\u001b[39m\u001b[39mvalue\u001b[39m\u001b[39m\"\u001b[39m]\n",
      "File \u001b[1;32md:\\Anaconda\\envs\\pygptest\\Lib\\site-packages\\selenium\\webdriver\\remote\\webdriver.py:440\u001b[0m, in \u001b[0;36mWebDriver.execute\u001b[1;34m(self, driver_command, params)\u001b[0m\n\u001b[0;32m    439\u001b[0m \u001b[39mif\u001b[39;00m response:\n\u001b[1;32m--> 440\u001b[0m     \u001b[39mself\u001b[39;49m\u001b[39m.\u001b[39;49merror_handler\u001b[39m.\u001b[39;49mcheck_response(response)\n\u001b[0;32m    441\u001b[0m     response[\u001b[39m\"\u001b[39m\u001b[39mvalue\u001b[39m\u001b[39m\"\u001b[39m] \u001b[39m=\u001b[39m \u001b[39mself\u001b[39m\u001b[39m.\u001b[39m_unwrap_value(response\u001b[39m.\u001b[39mget(\u001b[39m\"\u001b[39m\u001b[39mvalue\u001b[39m\u001b[39m\"\u001b[39m, \u001b[39mNone\u001b[39;00m))\n",
      "File \u001b[1;32md:\\Anaconda\\envs\\pygptest\\Lib\\site-packages\\selenium\\webdriver\\remote\\errorhandler.py:245\u001b[0m, in \u001b[0;36mErrorHandler.check_response\u001b[1;34m(self, response)\u001b[0m\n\u001b[0;32m    244\u001b[0m     \u001b[39mraise\u001b[39;00m exception_class(message, screen, stacktrace, alert_text)  \u001b[39m# type: ignore[call-arg]  # mypy is not smart enough here\u001b[39;00m\n\u001b[1;32m--> 245\u001b[0m \u001b[39mraise\u001b[39;00m exception_class(message, screen, stacktrace)\n",
      "\u001b[1;31mNoSuchWindowException\u001b[0m: Message: no such window: target window already closed\nfrom unknown error: web view not found\n  (Session info: chrome=109.0.5414.120)\nStacktrace:\nBacktrace:\n\t(No symbol) [0x00386643]\n\t(No symbol) [0x0031BE21]\n\t(No symbol) [0x0021DA9D]\n\t(No symbol) [0x001FEF6A]\n\t(No symbol) [0x00273AAB]\n\t(No symbol) [0x002861B6]\n\t(No symbol) [0x0026FB76]\n\t(No symbol) [0x002449C1]\n\t(No symbol) [0x00245E5D]\n\tGetHandleVerifier [0x005FA142+2497106]\n\tGetHandleVerifier [0x006285D3+2686691]\n\tGetHandleVerifier [0x0062BB9C+2700460]\n\tGetHandleVerifier [0x00433B10+635936]\n\t(No symbol) [0x00324A1F]\n\t(No symbol) [0x0032A418]\n\t(No symbol) [0x0032A505]\n\t(No symbol) [0x0033508B]\n\tBaseThreadInitThunk [0x76A17D69+25]\n\tRtlInitializeExceptionChain [0x77B5BB9B+107]\n\tRtlClearBits [0x77B5BB1F+191]\n",
      "\nDuring handling of the above exception, another exception occurred:\n",
      "\u001b[1;31mNoSuchWindowException\u001b[0m                     Traceback (most recent call last)",
      "Cell \u001b[1;32mIn[71], line 5\u001b[0m\n\u001b[0;32m      3\u001b[0m replace_dict \u001b[39m=\u001b[39m {}\n\u001b[0;32m      4\u001b[0m \u001b[39mfor\u001b[39;00m key \u001b[39min\u001b[39;00m \u001b[39mdict\u001b[39m:\n\u001b[1;32m----> 5\u001b[0m     page_name \u001b[39m=\u001b[39m get_username(\u001b[39mdict\u001b[39;49m[key])\n\u001b[0;32m      6\u001b[0m     \u001b[39mif\u001b[39;00m(\u001b[39mlen\u001b[39m(page_name) \u001b[39m>\u001b[39m \u001b[39m0\u001b[39m):\n\u001b[0;32m      7\u001b[0m         \u001b[39mif\u001b[39;00m page_name \u001b[39m!=\u001b[39m key:\n",
      "Cell \u001b[1;32mIn[69], line 34\u001b[0m, in \u001b[0;36mget_username\u001b[1;34m(url)\u001b[0m\n\u001b[0;32m     32\u001b[0m \u001b[39mexcept\u001b[39;00m:\n\u001b[0;32m     33\u001b[0m     selector \u001b[39m=\u001b[39m \u001b[39m'\u001b[39m\u001b[39mhead > title\u001b[39m\u001b[39m'\u001b[39m\n\u001b[1;32m---> 34\u001b[0m     name \u001b[39m=\u001b[39m driver\u001b[39m.\u001b[39;49mfind_elements(by\u001b[39m=\u001b[39;49m By\u001b[39m.\u001b[39;49mCSS_SELECTOR, value\u001b[39m=\u001b[39;49m selector)\n\u001b[0;32m     35\u001b[0m     cnt \u001b[39m=\u001b[39m \u001b[39m0\u001b[39m\n\u001b[0;32m     36\u001b[0m     \u001b[39mwhile\u001b[39;00m cnt \u001b[39m<\u001b[39m \u001b[39m5\u001b[39m \u001b[39m&\u001b[39m \u001b[39mlen\u001b[39m(name)\u001b[39m==\u001b[39m \u001b[39m0\u001b[39m :\n",
      "File \u001b[1;32md:\\Anaconda\\envs\\pygptest\\Lib\\site-packages\\selenium\\webdriver\\remote\\webdriver.py:860\u001b[0m, in \u001b[0;36mWebDriver.find_elements\u001b[1;34m(self, by, value)\u001b[0m\n\u001b[0;32m    856\u001b[0m     value \u001b[39m=\u001b[39m \u001b[39mf\u001b[39m\u001b[39m'\u001b[39m\u001b[39m[name=\u001b[39m\u001b[39m\"\u001b[39m\u001b[39m{\u001b[39;00mvalue\u001b[39m}\u001b[39;00m\u001b[39m\"\u001b[39m\u001b[39m]\u001b[39m\u001b[39m'\u001b[39m\n\u001b[0;32m    858\u001b[0m \u001b[39m# Return empty list if driver returns null\u001b[39;00m\n\u001b[0;32m    859\u001b[0m \u001b[39m# See https://github.com/SeleniumHQ/selenium/issues/4555\u001b[39;00m\n\u001b[1;32m--> 860\u001b[0m \u001b[39mreturn\u001b[39;00m \u001b[39mself\u001b[39;49m\u001b[39m.\u001b[39;49mexecute(Command\u001b[39m.\u001b[39;49mFIND_ELEMENTS, {\u001b[39m\"\u001b[39;49m\u001b[39musing\u001b[39;49m\u001b[39m\"\u001b[39;49m: by, \u001b[39m\"\u001b[39;49m\u001b[39mvalue\u001b[39;49m\u001b[39m\"\u001b[39;49m: value})[\u001b[39m\"\u001b[39m\u001b[39mvalue\u001b[39m\u001b[39m\"\u001b[39m] \u001b[39mor\u001b[39;00m []\n",
      "File \u001b[1;32md:\\Anaconda\\envs\\pygptest\\Lib\\site-packages\\selenium\\webdriver\\remote\\webdriver.py:440\u001b[0m, in \u001b[0;36mWebDriver.execute\u001b[1;34m(self, driver_command, params)\u001b[0m\n\u001b[0;32m    438\u001b[0m response \u001b[39m=\u001b[39m \u001b[39mself\u001b[39m\u001b[39m.\u001b[39mcommand_executor\u001b[39m.\u001b[39mexecute(driver_command, params)\n\u001b[0;32m    439\u001b[0m \u001b[39mif\u001b[39;00m response:\n\u001b[1;32m--> 440\u001b[0m     \u001b[39mself\u001b[39;49m\u001b[39m.\u001b[39;49merror_handler\u001b[39m.\u001b[39;49mcheck_response(response)\n\u001b[0;32m    441\u001b[0m     response[\u001b[39m\"\u001b[39m\u001b[39mvalue\u001b[39m\u001b[39m\"\u001b[39m] \u001b[39m=\u001b[39m \u001b[39mself\u001b[39m\u001b[39m.\u001b[39m_unwrap_value(response\u001b[39m.\u001b[39mget(\u001b[39m\"\u001b[39m\u001b[39mvalue\u001b[39m\u001b[39m\"\u001b[39m, \u001b[39mNone\u001b[39;00m))\n\u001b[0;32m    442\u001b[0m     \u001b[39mreturn\u001b[39;00m response\n",
      "File \u001b[1;32md:\\Anaconda\\envs\\pygptest\\Lib\\site-packages\\selenium\\webdriver\\remote\\errorhandler.py:245\u001b[0m, in \u001b[0;36mErrorHandler.check_response\u001b[1;34m(self, response)\u001b[0m\n\u001b[0;32m    243\u001b[0m         alert_text \u001b[39m=\u001b[39m value[\u001b[39m\"\u001b[39m\u001b[39malert\u001b[39m\u001b[39m\"\u001b[39m]\u001b[39m.\u001b[39mget(\u001b[39m\"\u001b[39m\u001b[39mtext\u001b[39m\u001b[39m\"\u001b[39m)\n\u001b[0;32m    244\u001b[0m     \u001b[39mraise\u001b[39;00m exception_class(message, screen, stacktrace, alert_text)  \u001b[39m# type: ignore[call-arg]  # mypy is not smart enough here\u001b[39;00m\n\u001b[1;32m--> 245\u001b[0m \u001b[39mraise\u001b[39;00m exception_class(message, screen, stacktrace)\n",
      "\u001b[1;31mNoSuchWindowException\u001b[0m: Message: no such window: target window already closed\nfrom unknown error: web view not found\n  (Session info: chrome=109.0.5414.120)\nStacktrace:\nBacktrace:\n\t(No symbol) [0x00386643]\n\t(No symbol) [0x0031BE21]\n\t(No symbol) [0x0021DA9D]\n\t(No symbol) [0x001FEF6A]\n\t(No symbol) [0x00273AAB]\n\t(No symbol) [0x002861B6]\n\t(No symbol) [0x0026FB76]\n\t(No symbol) [0x002449C1]\n\t(No symbol) [0x00245E5D]\n\tGetHandleVerifier [0x005FA142+2497106]\n\tGetHandleVerifier [0x006285D3+2686691]\n\tGetHandleVerifier [0x0062BB9C+2700460]\n\tGetHandleVerifier [0x00433B10+635936]\n\t(No symbol) [0x00324A1F]\n\t(No symbol) [0x0032A418]\n\t(No symbol) [0x0032A505]\n\t(No symbol) [0x0033508B]\n\tBaseThreadInitThunk [0x76A17D69+25]\n\tRtlInitializeExceptionChain [0x77B5BB9B+107]\n\tRtlClearBits [0x77B5BB1F+191]\n"
     ]
    }
   ],
   "source": [
    "replace_dict = {}\n",
    "for dict in dicts:\n",
    "    replace_dict = {}\n",
    "    for key in dict:\n",
    "        page_name = get_username(dict[key])\n",
    "        if(len(page_name) > 0):\n",
    "            if page_name != key:\n",
    "                replace_dict[key] = page_name\n",
    "    print(replace_dict)\n",
    "    for key in replace_dict:\n",
    "        url = dict.pop(key)\n",
    "        dict[replace_dict[key]] = url\n",
    "\n",
    "\n"
   ]
  },
  {
   "cell_type": "code",
   "execution_count": null,
   "metadata": {},
   "outputs": [
    {
     "name": "stderr",
     "output_type": "stream",
     "text": [
      "C:\\Users\\Dr.Seydlitz\\AppData\\Local\\Temp\\ipykernel_23600\\1151907460.py:3: DeprecationWarning: Redis.hmset() is deprecated. Use Redis.hset() instead.\n",
      "  r.hmset(origin_table,dicts[1])\n"
     ]
    },
    {
     "data": {
      "text/plain": [
       "True"
      ]
     },
     "execution_count": 33,
     "metadata": {},
     "output_type": "execute_result"
    }
   ],
   "source": [
    "origin_table = \"InformationResearch\"\n",
    "temp_table = \"InformationResearch_temp\"\n",
    "r.hmset(origin_table,dicts[1])"
   ]
  }
 ],
 "metadata": {
  "kernelspec": {
   "display_name": "pygptest",
   "language": "python",
   "name": "python3"
  },
  "language_info": {
   "codemirror_mode": {
    "name": "ipython",
    "version": 3
   },
   "file_extension": ".py",
   "mimetype": "text/x-python",
   "name": "python",
   "nbconvert_exporter": "python",
   "pygments_lexer": "ipython3",
   "version": "3.11.0"
  },
  "orig_nbformat": 4,
  "vscode": {
   "interpreter": {
    "hash": "1278e06ffbaa9b7c8b2ac9bd6f170e661a1f994a7e5e38dc537772809793ceae"
   }
  }
 },
 "nbformat": 4,
 "nbformat_minor": 2
}

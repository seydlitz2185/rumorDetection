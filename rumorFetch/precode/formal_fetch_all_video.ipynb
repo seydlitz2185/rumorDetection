{
 "cells": [
  {
   "cell_type": "code",
   "execution_count": 35,
   "metadata": {},
   "outputs": [],
   "source": [
    "import redis as redis\n",
    "import requests\n",
    "import random\n",
    "import numpy as np\n",
    "pool = redis.ConnectionPool(host='127.0.0.1',port=6379,password='123456')   \n",
    "\n",
    "global false, null, true,headers\n",
    "false = False\n",
    "null = ''\n",
    "true = True\n",
    "headers = {\n",
    "\n",
    "    'naive_header':{\n",
    "        'user-agent': 'Mozilla/5.0 (Windows NT 10.0; Win64; x64)',\n",
    "        'cookie':'ttwid=1|kUxzTmMLz56Qi8ZFSM5oAeco3xt7h1G3Zm2pTOvDJ94|1659753544|9e46280257ebea6ea7a75bd54e1d3a1eb8275a6f7e9573873adff473d1b43729; s_v_web_id=verify_l6haf2io_DEf1VsiL_5ZAt_4ZT3_9mmq_BPKClfkvzteG; passport_csrf_token=8f7f807cebb138e41db5c45de48e40a5; passport_csrf_token_default=8f7f807cebb138e41db5c45de48e40a5; ttcid=d1ffb9977aaf4a598a88d239fedfc8d197; IS_HIDE_THEME_CHANGE=\"1\"; THEME_STAY_TIME=\"299776\"; n_mh=l3a4V-yOuRsRcww8xXNwk34cchF8GuWclHTor510pkM; download_guide=\"5/20220809\"; douyin.com; strategyABtestKey=1660203439.037; sso_uid_tt=85637d575326a0487c45a7457cd05278; sso_uid_tt_ss=85637d575326a0487c45a7457cd05278; toutiao_sso_user=69cbe3824457428c9d17f931af627e5e; toutiao_sso_user_ss=69cbe3824457428c9d17f931af627e5e; sid_ucp_sso_v1=1.0.0-KDQzNTNmNDYzMmJhODMwODE0NzFhM2JiMzc0YmJjZDRiMmY0ZDJiNjUKHwjIl9CZ3Y2VAhCO6NKXBhjvMSAMMLzn9JYGOAZA9AcaAmxmIiA2OWNiZTM4MjQ0NTc0MjhjOWQxN2Y5MzFhZjYyN2U1ZQ; ssid_ucp_sso_v1=1.0.0-KDQzNTNmNDYzMmJhODMwODE0NzFhM2JiMzc0YmJjZDRiMmY0ZDJiNjUKHwjIl9CZ3Y2VAhCO6NKXBhjvMSAMMLzn9JYGOAZA9AcaAmxmIiA2OWNiZTM4MjQ0NTc0MjhjOWQxN2Y5MzFhZjYyN2U1ZQ; odin_tt=ee963c14296dab5d79e7d98749f77ba541b3b2c4487dbf52977d93d0ebfb52ccefd6516964bb0473ac4a1057ac9a4d947d13fa5b76c98e0dd78b08cdb55d1483; sid_guard=69cbe3824457428c9d17f931af627e5e|1660204046|5184000|Mon,+10-Oct-2022+07:47:26+GMT; uid_tt=85637d575326a0487c45a7457cd05278; uid_tt_ss=85637d575326a0487c45a7457cd05278; sid_tt=69cbe3824457428c9d17f931af627e5e; sessionid=69cbe3824457428c9d17f931af627e5e; sessionid_ss=69cbe3824457428c9d17f931af627e5e; sid_ucp_v1=1.0.0-KDQzNTNmNDYzMmJhODMwODE0NzFhM2JiMzc0YmJjZDRiMmY0ZDJiNjUKHwjIl9CZ3Y2VAhCO6NKXBhjvMSAMMLzn9JYGOAZA9AcaAmxmIiA2OWNiZTM4MjQ0NTc0MjhjOWQxN2Y5MzFhZjYyN2U1ZQ; ssid_ucp_v1=1.0.0-KDQzNTNmNDYzMmJhODMwODE0NzFhM2JiMzc0YmJjZDRiMmY0ZDJiNjUKHwjIl9CZ3Y2VAhCO6NKXBhjvMSAMMLzn9JYGOAZA9AcaAmxmIiA2OWNiZTM4MjQ0NTc0MjhjOWQxN2Y5MzFhZjYyN2U1ZQ; __ac_nonce=062f4ba4e00505b50475b; __ac_signature=_02B4Z6wo00f01FsqVrgAAIDDD0cjcSOrEYBbClIAAHRFPUX7-N6QlHN4vsGjGqzRuugHVevY0SmTyuv0g4fYJZPxKuxi-25-j6.b5wd6iiYhlSuzBMqx8EUmzoVSSgO7sbDg.UZsptFkUjqXaa; msToken=OhBrtgwrHNv1E9BH0hDRCmsSX07RWZj7GLg3CrnfgO5Tv6cjOjyVTa_p60MRNK-5y_h4cVZ9Hl6WekGPWf17PjJiHpbvkGir5HKZsAzfR4R2DmeBIeRl4kcnP8hBJ_s=; home_can_add_dy_2_desktop=\"1\"; msToken=Miux1aHO_-_h9A2hfrYzGCRm-HoM6sQkGhcm4caH-wFzErk9-xEtWxoi6HvrryCvamQHu31trHsGuvNSfa17EXcTa5AuYqM70b01glTflh2GZw3rNlxzzgpc5XC8lr5L; tt_scid=PORUtg6qRZt0WXB1F-hLC-aQB9J3D5Cds.1eosjJuSwIwLhS3HNShkXGbRJqdx2t095b'\n",
    "    }\n",
    "}\n",
    "\n",
    "def get_proxy():\n",
    "    r = redis.Redis(connection_pool=pool)\n",
    "    proxy_keys= list( r.hkeys(name='use_proxy'))\n",
    "    this_key =random.choice(proxy_keys)\n",
    "    js = eval(r.hget(name='use_proxy',key=this_key).decode('utf8'))\n",
    "    return js\n",
    "\n",
    "def get_https_proxy():\n",
    "    r = redis.Redis(connection_pool=pool)\n",
    "    https_proxy = []\n",
    "    while len(https_proxy)==0 :\n",
    "        proxy_vals= list(r.hvals(name='use_proxy'))\n",
    "        for val in proxy_vals:\n",
    "            js = eval(val.decode('utf8'))\n",
    "            if js.get('https') :\n",
    "                https_proxy.append(val)\n",
    "    this_val =random.choice(https_proxy)        \n",
    "    js = eval(this_val.decode('utf8'))\n",
    "    return js\n",
    "\n",
    "def delete_proxy(proxy):\n",
    "    r = redis.Redis(connection_pool=pool)\n",
    "    r.hdel('use_proxy',proxy)\n",
    "\n",
    "    \n",
    "def getHtml(url):\n",
    "    retry_count = 5\n",
    "    #http代理似乎已经够用\n",
    "    proxy = get_proxy().get('proxy')\n",
    "    #proxy = get_https_proxy().get('proxy')\n",
    "    #print(proxy)\n",
    "    while retry_count > 0:\n",
    "        try:\n",
    "           # html = requests.get('http://demo.spiderpy.cn/',headers = headers.get('naive_header'),timeout=3,proxies={\"http\": \"http://{}\".format(proxy)})\n",
    "            html = requests.get(url=url,headers = headers.get('naive_header'), proxies={\"http\": \"http://{}\".format(proxy)},timeout=1, )\n",
    "            # 使用代理访问\n",
    "            #print('bar')\n",
    "            return html\n",
    "        except Exception:\n",
    "            retry_count -= 1\n",
    "            #print('foo')\n",
    "    # 删除代理池中无效代理\n",
    "    delete_proxy(proxy)\n",
    "    return None"
   ]
  },
  {
   "cell_type": "markdown",
   "metadata": {},
   "source": [
    "#### 从本地读取静态html网页\n",
    "##### 初步选择出合适的用户，保留一个视频主页"
   ]
  },
  {
   "cell_type": "code",
   "execution_count": 49,
   "metadata": {},
   "outputs": [
    {
     "name": "stderr",
     "output_type": "stream",
     "text": [
      "C:\\Users\\Dr.Seydlitz\\AppData\\Local\\Temp\\ipykernel_147676\\3208894089.py:8: DeprecationWarning: executable_path has been deprecated, please pass in a Service object\n",
      "  driver = webdriver.Chrome(executable_path='C:\\Program Files\\chromedriver\\chromedriver.exe',chrome_options=chrome_options)\n",
      "C:\\Users\\Dr.Seydlitz\\AppData\\Local\\Temp\\ipykernel_147676\\3208894089.py:8: DeprecationWarning: use options instead of chrome_options\n",
      "  driver = webdriver.Chrome(executable_path='C:\\Program Files\\chromedriver\\chromedriver.exe',chrome_options=chrome_options)\n"
     ]
    },
    {
     "name": "stdout",
     "output_type": "stream",
     "text": [
      "257\n"
     ]
    }
   ],
   "source": [
    "import selenium.webdriver as webdriver\n",
    "from selenium.webdriver.common.by import By\n",
    "import re\n",
    "chrome_options =  webdriver.ChromeOptions()\n",
    "#这一行很关键，让selenium不加载图片，专心爬\n",
    "chrome_options.add_argument('blink-settings=imagesEnabled=false')\n",
    "chrome_options.add_argument('headless')\n",
    "driver = webdriver.Chrome(executable_path='C:\\Program Files\\chromedriver\\chromedriver.exe',chrome_options=chrome_options)\n",
    "driver.get(\"file://D:/TextMate/spider/demo.html\")\n",
    "lis = driver.find_elements(by=By.CSS_SELECTOR,value='#dark > div> div > div > div > ul > li > div > div > a')\n",
    "print(len(lis))\n",
    "freq ={}\n",
    "pair ={}\n",
    "for li in lis:\n",
    "   username =  li.find_element(by = By.CSS_SELECTOR,value=\"div > div > div > div > span > span\").get_attribute('innerHTML')\n",
    "   entry = li.get_attribute('href')\n",
    "   times=li.find_element(by=By.CLASS_NAME,value=\"IcU0dfgd\").get_attribute('innerHTML')\n",
    "   #筛选播放量较大的用户\n",
    "   if times.find('w')>0:\n",
    "      times=re.sub(\"w\",\"\",times)\n",
    "      times = float(times)*10000 \n",
    "   else:\n",
    "      times = float(times)\n",
    "   #print(username,times)\n",
    "   if freq.get(username):\n",
    "      #print('haha')\n",
    "      freq[username]=times+freq.get(username)\n",
    "   else:\n",
    "      freq[username]=times\n",
    "   pair[username]=entry\n",
    "driver.quit()\n",
    "#print(pair)\n",
    "#print(freq)\n",
    "\n",
    "\n"
   ]
  },
  {
   "cell_type": "code",
   "execution_count": 63,
   "metadata": {},
   "outputs": [],
   "source": [
    "from re import U\n",
    "import pandas as pd\n",
    "df = pd.DataFrame.from_dict(freq, orient='index',columns=['freq'])\n",
    "df.sort_values(by='freq',ascending=False,inplace=True)\n",
    "#display(df)\n",
    "newData = df.where(cond = (df['freq']>=1000)).dropna()\n",
    "#display(newData)\n",
    "good_users = newData.index.to_list()\n",
    "good_pairs={}\n",
    "for user in good_users:\n",
    "    good_pairs[user]=pair.get(user)"
   ]
  },
  {
   "cell_type": "code",
   "execution_count": 64,
   "metadata": {},
   "outputs": [
    {
     "name": "stderr",
     "output_type": "stream",
     "text": [
      "C:\\Users\\Dr.Seydlitz\\AppData\\Local\\Temp\\ipykernel_147676\\4055345887.py:14: DeprecationWarning: executable_path has been deprecated, please pass in a Service object\n",
      "  driver = webdriver.Chrome(executable_path='C:\\Program Files\\chromedriver\\chromedriver.exe',chrome_options=chrome_options)\n",
      "C:\\Users\\Dr.Seydlitz\\AppData\\Local\\Temp\\ipykernel_147676\\4055345887.py:14: DeprecationWarning: use options instead of chrome_options\n",
      "  driver = webdriver.Chrome(executable_path='C:\\Program Files\\chromedriver\\chromedriver.exe',chrome_options=chrome_options)\n",
      "C:\\Users\\Dr.Seydlitz\\AppData\\Local\\Temp\\ipykernel_147676\\4055345887.py:29: DeprecationWarning: Redis.hmset() is deprecated. Use Redis.hset() instead.\n",
      "  r.hmset('demo_targets1', homepages)\n"
     ]
    },
    {
     "data": {
      "text/plain": [
       "True"
      ]
     },
     "execution_count": 64,
     "metadata": {},
     "output_type": "execute_result"
    }
   ],
   "source": [
    "import redis as redis\n",
    "from selenium.common.exceptions import TimeoutException,NoSuchElementException\n",
    "pool = redis.ConnectionPool(host='127.0.0.1',port=6379,password='123456')   \n",
    "r = redis.Redis(connection_pool=pool)\n",
    "homepages={}\n",
    "global proxy\n",
    "#proxy  = get_https_proxy().get(\"proxy\")\n",
    "global flag\n",
    "chrome_options =  webdriver.ChromeOptions()\n",
    "chrome_options.add_argument('blink-settings=imagesEnabled=false')\n",
    "#chrome_options.add_argument('headless')\n",
    "\n",
    "for key in good_pairs.keys():\n",
    "    driver = webdriver.Chrome(executable_path='C:\\Program Files\\chromedriver\\chromedriver.exe',chrome_options=chrome_options)\n",
    "    driver.set_page_load_timeout(15) \n",
    "    url = pair.get(key)\n",
    "    try:\n",
    "        driver.get(url)\n",
    "    except Exception:\n",
    "            # 当页面加载时间超过设定时间，通过js来stop，即可执行后续动作\n",
    "        driver.execute_script(\"window.stop()\")\n",
    "    try:\n",
    "        homepages[key]=driver.find_element(by = By.CSS_SELECTOR,value=\"#root > div > div.T_foQflM > div > div > div.leftContainer.w0R6mo9z > div.bQEtX7d8 > div > div.mONd8Zeh > div.CjPRy13J > a\").get_attribute('href')\n",
    "        #print(key,homepages.get(key))\n",
    "        flag = 0\n",
    "    except Exception:\n",
    "        continue\n",
    "    driver.quit()\n",
    "r.hmset('demo_targets1', homepages)"
   ]
  },
  {
   "cell_type": "code",
   "execution_count": 25,
   "metadata": {},
   "outputs": [
    {
     "name": "stderr",
     "output_type": "stream",
     "text": [
      "C:\\Users\\Dr.Seydlitz\\AppData\\Local\\Temp\\ipykernel_147676\\3877513021.py:13: DeprecationWarning: executable_path has been deprecated, please pass in a Service object\n",
      "  driver = webdriver.Chrome(executable_path='C:\\Program Files\\chromedriver\\chromedriver.exe')\n"
     ]
    },
    {
     "name": "stdout",
     "output_type": "stream",
     "text": [
      "高文斌教授 https://www.douyin.com/user/MS4wLjABAAAA0YYUVgoXmgufnaMmQ7r1Yy-UdzQiIZ-03q3VEZLn-0YrXFSVjrNWy4eIWBVIRjO0\n"
     ]
    },
    {
     "ename": "KeyboardInterrupt",
     "evalue": "",
     "output_type": "error",
     "traceback": [
      "\u001b[1;31m---------------------------------------------------------------------------\u001b[0m",
      "\u001b[1;31mConnectionRefusedError\u001b[0m                    Traceback (most recent call last)",
      "File \u001b[1;32m~\\AppData\\Roaming\\Python\\Python39\\site-packages\\urllib3\\util\\connection.py:70\u001b[0m, in \u001b[0;36mcreate_connection\u001b[1;34m(address, timeout, source_address, socket_options)\u001b[0m\n\u001b[0;32m     69\u001b[0m     sock\u001b[39m.\u001b[39mbind(source_address)\n\u001b[1;32m---> 70\u001b[0m sock\u001b[39m.\u001b[39;49mconnect(sa)\n\u001b[0;32m     71\u001b[0m \u001b[39mreturn\u001b[39;00m sock\n",
      "\u001b[1;31mConnectionRefusedError\u001b[0m: [WinError 10061] 由于目标计算机积极拒绝，无法连接。",
      "\nDuring handling of the above exception, another exception occurred:\n",
      "\u001b[1;31mKeyboardInterrupt\u001b[0m                         Traceback (most recent call last)",
      "\u001b[1;32md:\\TextMate\\spider\\second_attempt.ipynb Cell 5\u001b[0m in \u001b[0;36m<cell line: 15>\u001b[1;34m()\u001b[0m\n\u001b[0;32m     <a href='vscode-notebook-cell:/d%3A/TextMate/spider/second_attempt.ipynb#X11sZmlsZQ%3D%3D?line=26'>27</a>\u001b[0m \u001b[39mwhile\u001b[39;00m flag \u001b[39m<\u001b[39m\u001b[39m0\u001b[39m:\n\u001b[0;32m     <a href='vscode-notebook-cell:/d%3A/TextMate/spider/second_attempt.ipynb#X11sZmlsZQ%3D%3D?line=27'>28</a>\u001b[0m     \u001b[39mtry\u001b[39;00m:\n\u001b[1;32m---> <a href='vscode-notebook-cell:/d%3A/TextMate/spider/second_attempt.ipynb#X11sZmlsZQ%3D%3D?line=28'>29</a>\u001b[0m         driver\u001b[39m.\u001b[39;49mget(url)\n\u001b[0;32m     <a href='vscode-notebook-cell:/d%3A/TextMate/spider/second_attempt.ipynb#X11sZmlsZQ%3D%3D?line=29'>30</a>\u001b[0m     \u001b[39mexcept\u001b[39;00m \u001b[39mException\u001b[39;00m:\n\u001b[0;32m     <a href='vscode-notebook-cell:/d%3A/TextMate/spider/second_attempt.ipynb#X11sZmlsZQ%3D%3D?line=30'>31</a>\u001b[0m         \u001b[39m# 当页面加载时间超过设定时间，通过js来stop，即可执行后续动作\u001b[39;00m\n\u001b[0;32m     <a href='vscode-notebook-cell:/d%3A/TextMate/spider/second_attempt.ipynb#X11sZmlsZQ%3D%3D?line=31'>32</a>\u001b[0m         driver\u001b[39m.\u001b[39mexecute_script(\u001b[39m\"\u001b[39m\u001b[39mwindow.stop()\u001b[39m\u001b[39m\"\u001b[39m)\n",
      "File \u001b[1;32m~\\AppData\\Roaming\\Python\\Python39\\site-packages\\selenium\\webdriver\\remote\\webdriver.py:447\u001b[0m, in \u001b[0;36mWebDriver.get\u001b[1;34m(self, url)\u001b[0m\n\u001b[0;32m    443\u001b[0m \u001b[39mdef\u001b[39;00m \u001b[39mget\u001b[39m(\u001b[39mself\u001b[39m, url: \u001b[39mstr\u001b[39m) \u001b[39m-\u001b[39m\u001b[39m>\u001b[39m \u001b[39mNone\u001b[39;00m:\n\u001b[0;32m    444\u001b[0m     \u001b[39m\"\"\"\u001b[39;00m\n\u001b[0;32m    445\u001b[0m \u001b[39m    Loads a web page in the current browser session.\u001b[39;00m\n\u001b[0;32m    446\u001b[0m \u001b[39m    \"\"\"\u001b[39;00m\n\u001b[1;32m--> 447\u001b[0m     \u001b[39mself\u001b[39;49m\u001b[39m.\u001b[39;49mexecute(Command\u001b[39m.\u001b[39;49mGET, {\u001b[39m'\u001b[39;49m\u001b[39murl\u001b[39;49m\u001b[39m'\u001b[39;49m: url})\n",
      "File \u001b[1;32m~\\AppData\\Roaming\\Python\\Python39\\site-packages\\selenium\\webdriver\\remote\\webdriver.py:433\u001b[0m, in \u001b[0;36mWebDriver.execute\u001b[1;34m(self, driver_command, params)\u001b[0m\n\u001b[0;32m    430\u001b[0m         params[\u001b[39m'\u001b[39m\u001b[39msessionId\u001b[39m\u001b[39m'\u001b[39m] \u001b[39m=\u001b[39m \u001b[39mself\u001b[39m\u001b[39m.\u001b[39msession_id\n\u001b[0;32m    432\u001b[0m params \u001b[39m=\u001b[39m \u001b[39mself\u001b[39m\u001b[39m.\u001b[39m_wrap_value(params)\n\u001b[1;32m--> 433\u001b[0m response \u001b[39m=\u001b[39m \u001b[39mself\u001b[39;49m\u001b[39m.\u001b[39;49mcommand_executor\u001b[39m.\u001b[39;49mexecute(driver_command, params)\n\u001b[0;32m    434\u001b[0m \u001b[39mif\u001b[39;00m response:\n\u001b[0;32m    435\u001b[0m     \u001b[39mself\u001b[39m\u001b[39m.\u001b[39merror_handler\u001b[39m.\u001b[39mcheck_response(response)\n",
      "File \u001b[1;32m~\\AppData\\Roaming\\Python\\Python39\\site-packages\\selenium\\webdriver\\remote\\remote_connection.py:344\u001b[0m, in \u001b[0;36mRemoteConnection.execute\u001b[1;34m(self, command, params)\u001b[0m\n\u001b[0;32m    342\u001b[0m data \u001b[39m=\u001b[39m utils\u001b[39m.\u001b[39mdump_json(params)\n\u001b[0;32m    343\u001b[0m url \u001b[39m=\u001b[39m \u001b[39mf\u001b[39m\u001b[39m\"\u001b[39m\u001b[39m{\u001b[39;00m\u001b[39mself\u001b[39m\u001b[39m.\u001b[39m_url\u001b[39m}\u001b[39;00m\u001b[39m{\u001b[39;00mpath\u001b[39m}\u001b[39;00m\u001b[39m\"\u001b[39m\n\u001b[1;32m--> 344\u001b[0m \u001b[39mreturn\u001b[39;00m \u001b[39mself\u001b[39;49m\u001b[39m.\u001b[39;49m_request(command_info[\u001b[39m0\u001b[39;49m], url, body\u001b[39m=\u001b[39;49mdata)\n",
      "File \u001b[1;32m~\\AppData\\Roaming\\Python\\Python39\\site-packages\\selenium\\webdriver\\remote\\remote_connection.py:366\u001b[0m, in \u001b[0;36mRemoteConnection._request\u001b[1;34m(self, method, url, body)\u001b[0m\n\u001b[0;32m    363\u001b[0m     body \u001b[39m=\u001b[39m \u001b[39mNone\u001b[39;00m\n\u001b[0;32m    365\u001b[0m \u001b[39mif\u001b[39;00m \u001b[39mself\u001b[39m\u001b[39m.\u001b[39mkeep_alive:\n\u001b[1;32m--> 366\u001b[0m     response \u001b[39m=\u001b[39m \u001b[39mself\u001b[39;49m\u001b[39m.\u001b[39;49m_conn\u001b[39m.\u001b[39;49mrequest(method, url, body\u001b[39m=\u001b[39;49mbody, headers\u001b[39m=\u001b[39;49mheaders)\n\u001b[0;32m    367\u001b[0m     statuscode \u001b[39m=\u001b[39m response\u001b[39m.\u001b[39mstatus\n\u001b[0;32m    368\u001b[0m \u001b[39melse\u001b[39;00m:\n",
      "File \u001b[1;32m~\\AppData\\Roaming\\Python\\Python39\\site-packages\\urllib3\\request.py:70\u001b[0m, in \u001b[0;36mRequestMethods.request\u001b[1;34m(self, method, url, fields, headers, **urlopen_kw)\u001b[0m\n\u001b[0;32m     66\u001b[0m     \u001b[39mreturn\u001b[39;00m \u001b[39mself\u001b[39m\u001b[39m.\u001b[39mrequest_encode_url(method, url, fields\u001b[39m=\u001b[39mfields,\n\u001b[0;32m     67\u001b[0m                                    headers\u001b[39m=\u001b[39mheaders,\n\u001b[0;32m     68\u001b[0m                                    \u001b[39m*\u001b[39m\u001b[39m*\u001b[39murlopen_kw)\n\u001b[0;32m     69\u001b[0m \u001b[39melse\u001b[39;00m:\n\u001b[1;32m---> 70\u001b[0m     \u001b[39mreturn\u001b[39;00m \u001b[39mself\u001b[39m\u001b[39m.\u001b[39mrequest_encode_body(method, url, fields\u001b[39m=\u001b[39mfields,\n\u001b[0;32m     71\u001b[0m                                     headers\u001b[39m=\u001b[39mheaders,\n\u001b[0;32m     72\u001b[0m                                     \u001b[39m*\u001b[39m\u001b[39m*\u001b[39murlopen_kw)\n",
      "File \u001b[1;32m~\\AppData\\Roaming\\Python\\Python39\\site-packages\\urllib3\\request.py:150\u001b[0m, in \u001b[0;36mRequestMethods.request_encode_body\u001b[1;34m(self, method, url, fields, headers, encode_multipart, multipart_boundary, **urlopen_kw)\u001b[0m\n\u001b[0;32m    147\u001b[0m extra_kw[\u001b[39m'\u001b[39m\u001b[39mheaders\u001b[39m\u001b[39m'\u001b[39m]\u001b[39m.\u001b[39mupdate(headers)\n\u001b[0;32m    148\u001b[0m extra_kw\u001b[39m.\u001b[39mupdate(urlopen_kw)\n\u001b[1;32m--> 150\u001b[0m \u001b[39mreturn\u001b[39;00m \u001b[39mself\u001b[39m\u001b[39m.\u001b[39murlopen(method, url, \u001b[39m*\u001b[39m\u001b[39m*\u001b[39mextra_kw)\n",
      "File \u001b[1;32m~\\AppData\\Roaming\\Python\\Python39\\site-packages\\urllib3\\poolmanager.py:324\u001b[0m, in \u001b[0;36mPoolManager.urlopen\u001b[1;34m(self, method, url, redirect, **kw)\u001b[0m\n\u001b[0;32m    322\u001b[0m     response \u001b[39m=\u001b[39m conn\u001b[39m.\u001b[39murlopen(method, url, \u001b[39m*\u001b[39m\u001b[39m*\u001b[39mkw)\n\u001b[0;32m    323\u001b[0m \u001b[39melse\u001b[39;00m:\n\u001b[1;32m--> 324\u001b[0m     response \u001b[39m=\u001b[39m conn\u001b[39m.\u001b[39murlopen(method, u\u001b[39m.\u001b[39mrequest_uri, \u001b[39m*\u001b[39m\u001b[39m*\u001b[39mkw)\n\u001b[0;32m    326\u001b[0m redirect_location \u001b[39m=\u001b[39m redirect \u001b[39mand\u001b[39;00m response\u001b[39m.\u001b[39mget_redirect_location()\n\u001b[0;32m    327\u001b[0m \u001b[39mif\u001b[39;00m \u001b[39mnot\u001b[39;00m redirect_location:\n",
      "File \u001b[1;32m~\\AppData\\Roaming\\Python\\Python39\\site-packages\\urllib3\\connectionpool.py:663\u001b[0m, in \u001b[0;36mHTTPConnectionPool.urlopen\u001b[1;34m(self, method, url, body, headers, retries, redirect, assert_same_host, timeout, pool_timeout, release_conn, chunked, body_pos, **response_kw)\u001b[0m\n\u001b[0;32m    659\u001b[0m \u001b[39mif\u001b[39;00m \u001b[39mnot\u001b[39;00m conn:\n\u001b[0;32m    660\u001b[0m     \u001b[39m# Try again\u001b[39;00m\n\u001b[0;32m    661\u001b[0m     log\u001b[39m.\u001b[39mwarning(\u001b[39m\"\u001b[39m\u001b[39mRetrying (\u001b[39m\u001b[39m%r\u001b[39;00m\u001b[39m) after connection \u001b[39m\u001b[39m\"\u001b[39m\n\u001b[0;32m    662\u001b[0m                 \u001b[39m\"\u001b[39m\u001b[39mbroken by \u001b[39m\u001b[39m'\u001b[39m\u001b[39m%r\u001b[39;00m\u001b[39m'\u001b[39m\u001b[39m: \u001b[39m\u001b[39m%s\u001b[39;00m\u001b[39m\"\u001b[39m, retries, err, url)\n\u001b[1;32m--> 663\u001b[0m     \u001b[39mreturn\u001b[39;00m \u001b[39mself\u001b[39m\u001b[39m.\u001b[39murlopen(method, url, body, headers, retries,\n\u001b[0;32m    664\u001b[0m                         redirect, assert_same_host,\n\u001b[0;32m    665\u001b[0m                         timeout\u001b[39m=\u001b[39mtimeout, pool_timeout\u001b[39m=\u001b[39mpool_timeout,\n\u001b[0;32m    666\u001b[0m                         release_conn\u001b[39m=\u001b[39mrelease_conn, body_pos\u001b[39m=\u001b[39mbody_pos,\n\u001b[0;32m    667\u001b[0m                         \u001b[39m*\u001b[39m\u001b[39m*\u001b[39mresponse_kw)\n\u001b[0;32m    669\u001b[0m \u001b[39mdef\u001b[39;00m \u001b[39mdrain_and_release_conn\u001b[39m(response):\n\u001b[0;32m    670\u001b[0m     \u001b[39mtry\u001b[39;00m:\n\u001b[0;32m    671\u001b[0m         \u001b[39m# discard any remaining response body, the connection will be\u001b[39;00m\n\u001b[0;32m    672\u001b[0m         \u001b[39m# released back to the pool once the entire response is read\u001b[39;00m\n",
      "File \u001b[1;32m~\\AppData\\Roaming\\Python\\Python39\\site-packages\\urllib3\\connectionpool.py:597\u001b[0m, in \u001b[0;36mHTTPConnectionPool.urlopen\u001b[1;34m(self, method, url, body, headers, retries, redirect, assert_same_host, timeout, pool_timeout, release_conn, chunked, body_pos, **response_kw)\u001b[0m\n\u001b[0;32m    594\u001b[0m     \u001b[39mself\u001b[39m\u001b[39m.\u001b[39m_prepare_proxy(conn)\n\u001b[0;32m    596\u001b[0m \u001b[39m# Make the request on the httplib connection object.\u001b[39;00m\n\u001b[1;32m--> 597\u001b[0m httplib_response \u001b[39m=\u001b[39m \u001b[39mself\u001b[39;49m\u001b[39m.\u001b[39;49m_make_request(conn, method, url,\n\u001b[0;32m    598\u001b[0m                                       timeout\u001b[39m=\u001b[39;49mtimeout_obj,\n\u001b[0;32m    599\u001b[0m                                       body\u001b[39m=\u001b[39;49mbody, headers\u001b[39m=\u001b[39;49mheaders,\n\u001b[0;32m    600\u001b[0m                                       chunked\u001b[39m=\u001b[39;49mchunked)\n\u001b[0;32m    602\u001b[0m \u001b[39m# If we're going to release the connection in ``finally:``, then\u001b[39;00m\n\u001b[0;32m    603\u001b[0m \u001b[39m# the response doesn't need to know about the connection. Otherwise\u001b[39;00m\n\u001b[0;32m    604\u001b[0m \u001b[39m# it will also try to release it and we'll have a double-release\u001b[39;00m\n\u001b[0;32m    605\u001b[0m \u001b[39m# mess.\u001b[39;00m\n\u001b[0;32m    606\u001b[0m response_conn \u001b[39m=\u001b[39m conn \u001b[39mif\u001b[39;00m \u001b[39mnot\u001b[39;00m release_conn \u001b[39melse\u001b[39;00m \u001b[39mNone\u001b[39;00m\n",
      "File \u001b[1;32m~\\AppData\\Roaming\\Python\\Python39\\site-packages\\urllib3\\connectionpool.py:354\u001b[0m, in \u001b[0;36mHTTPConnectionPool._make_request\u001b[1;34m(self, conn, method, url, timeout, chunked, **httplib_request_kw)\u001b[0m\n\u001b[0;32m    352\u001b[0m     conn\u001b[39m.\u001b[39mrequest_chunked(method, url, \u001b[39m*\u001b[39m\u001b[39m*\u001b[39mhttplib_request_kw)\n\u001b[0;32m    353\u001b[0m \u001b[39melse\u001b[39;00m:\n\u001b[1;32m--> 354\u001b[0m     conn\u001b[39m.\u001b[39mrequest(method, url, \u001b[39m*\u001b[39m\u001b[39m*\u001b[39mhttplib_request_kw)\n\u001b[0;32m    356\u001b[0m \u001b[39m# Reset the timeout for the recv() on the socket\u001b[39;00m\n\u001b[0;32m    357\u001b[0m read_timeout \u001b[39m=\u001b[39m timeout_obj\u001b[39m.\u001b[39mread_timeout\n",
      "File \u001b[1;32mD:\\Anaconda\\lib\\http\\client.py:1285\u001b[0m, in \u001b[0;36mHTTPConnection.request\u001b[1;34m(self, method, url, body, headers, encode_chunked)\u001b[0m\n\u001b[0;32m   1282\u001b[0m \u001b[39mdef\u001b[39;00m \u001b[39mrequest\u001b[39m(\u001b[39mself\u001b[39m, method, url, body\u001b[39m=\u001b[39m\u001b[39mNone\u001b[39;00m, headers\u001b[39m=\u001b[39m{}, \u001b[39m*\u001b[39m,\n\u001b[0;32m   1283\u001b[0m             encode_chunked\u001b[39m=\u001b[39m\u001b[39mFalse\u001b[39;00m):\n\u001b[0;32m   1284\u001b[0m     \u001b[39m\"\"\"Send a complete request to the server.\"\"\"\u001b[39;00m\n\u001b[1;32m-> 1285\u001b[0m     \u001b[39mself\u001b[39;49m\u001b[39m.\u001b[39;49m_send_request(method, url, body, headers, encode_chunked)\n",
      "File \u001b[1;32mD:\\Anaconda\\lib\\http\\client.py:1331\u001b[0m, in \u001b[0;36mHTTPConnection._send_request\u001b[1;34m(self, method, url, body, headers, encode_chunked)\u001b[0m\n\u001b[0;32m   1327\u001b[0m \u001b[39mif\u001b[39;00m \u001b[39misinstance\u001b[39m(body, \u001b[39mstr\u001b[39m):\n\u001b[0;32m   1328\u001b[0m     \u001b[39m# RFC 2616 Section 3.7.1 says that text default has a\u001b[39;00m\n\u001b[0;32m   1329\u001b[0m     \u001b[39m# default charset of iso-8859-1.\u001b[39;00m\n\u001b[0;32m   1330\u001b[0m     body \u001b[39m=\u001b[39m _encode(body, \u001b[39m'\u001b[39m\u001b[39mbody\u001b[39m\u001b[39m'\u001b[39m)\n\u001b[1;32m-> 1331\u001b[0m \u001b[39mself\u001b[39;49m\u001b[39m.\u001b[39;49mendheaders(body, encode_chunked\u001b[39m=\u001b[39;49mencode_chunked)\n",
      "File \u001b[1;32mD:\\Anaconda\\lib\\http\\client.py:1280\u001b[0m, in \u001b[0;36mHTTPConnection.endheaders\u001b[1;34m(self, message_body, encode_chunked)\u001b[0m\n\u001b[0;32m   1278\u001b[0m \u001b[39melse\u001b[39;00m:\n\u001b[0;32m   1279\u001b[0m     \u001b[39mraise\u001b[39;00m CannotSendHeader()\n\u001b[1;32m-> 1280\u001b[0m \u001b[39mself\u001b[39;49m\u001b[39m.\u001b[39;49m_send_output(message_body, encode_chunked\u001b[39m=\u001b[39;49mencode_chunked)\n",
      "File \u001b[1;32mD:\\Anaconda\\lib\\http\\client.py:1040\u001b[0m, in \u001b[0;36mHTTPConnection._send_output\u001b[1;34m(self, message_body, encode_chunked)\u001b[0m\n\u001b[0;32m   1038\u001b[0m msg \u001b[39m=\u001b[39m \u001b[39mb\u001b[39m\u001b[39m\"\u001b[39m\u001b[39m\\r\u001b[39;00m\u001b[39m\\n\u001b[39;00m\u001b[39m\"\u001b[39m\u001b[39m.\u001b[39mjoin(\u001b[39mself\u001b[39m\u001b[39m.\u001b[39m_buffer)\n\u001b[0;32m   1039\u001b[0m \u001b[39mdel\u001b[39;00m \u001b[39mself\u001b[39m\u001b[39m.\u001b[39m_buffer[:]\n\u001b[1;32m-> 1040\u001b[0m \u001b[39mself\u001b[39;49m\u001b[39m.\u001b[39;49msend(msg)\n\u001b[0;32m   1042\u001b[0m \u001b[39mif\u001b[39;00m message_body \u001b[39mis\u001b[39;00m \u001b[39mnot\u001b[39;00m \u001b[39mNone\u001b[39;00m:\n\u001b[0;32m   1043\u001b[0m \n\u001b[0;32m   1044\u001b[0m     \u001b[39m# create a consistent interface to message_body\u001b[39;00m\n\u001b[0;32m   1045\u001b[0m     \u001b[39mif\u001b[39;00m \u001b[39mhasattr\u001b[39m(message_body, \u001b[39m'\u001b[39m\u001b[39mread\u001b[39m\u001b[39m'\u001b[39m):\n\u001b[0;32m   1046\u001b[0m         \u001b[39m# Let file-like take precedence over byte-like.  This\u001b[39;00m\n\u001b[0;32m   1047\u001b[0m         \u001b[39m# is needed to allow the current position of mmap'ed\u001b[39;00m\n\u001b[0;32m   1048\u001b[0m         \u001b[39m# files to be taken into account.\u001b[39;00m\n",
      "File \u001b[1;32mD:\\Anaconda\\lib\\http\\client.py:980\u001b[0m, in \u001b[0;36mHTTPConnection.send\u001b[1;34m(self, data)\u001b[0m\n\u001b[0;32m    978\u001b[0m \u001b[39mif\u001b[39;00m \u001b[39mself\u001b[39m\u001b[39m.\u001b[39msock \u001b[39mis\u001b[39;00m \u001b[39mNone\u001b[39;00m:\n\u001b[0;32m    979\u001b[0m     \u001b[39mif\u001b[39;00m \u001b[39mself\u001b[39m\u001b[39m.\u001b[39mauto_open:\n\u001b[1;32m--> 980\u001b[0m         \u001b[39mself\u001b[39;49m\u001b[39m.\u001b[39;49mconnect()\n\u001b[0;32m    981\u001b[0m     \u001b[39melse\u001b[39;00m:\n\u001b[0;32m    982\u001b[0m         \u001b[39mraise\u001b[39;00m NotConnected()\n",
      "File \u001b[1;32m~\\AppData\\Roaming\\Python\\Python39\\site-packages\\urllib3\\connection.py:181\u001b[0m, in \u001b[0;36mHTTPConnection.connect\u001b[1;34m(self)\u001b[0m\n\u001b[0;32m    180\u001b[0m \u001b[39mdef\u001b[39;00m \u001b[39mconnect\u001b[39m(\u001b[39mself\u001b[39m):\n\u001b[1;32m--> 181\u001b[0m     conn \u001b[39m=\u001b[39m \u001b[39mself\u001b[39;49m\u001b[39m.\u001b[39;49m_new_conn()\n\u001b[0;32m    182\u001b[0m     \u001b[39mself\u001b[39m\u001b[39m.\u001b[39m_prepare_conn(conn)\n",
      "File \u001b[1;32m~\\AppData\\Roaming\\Python\\Python39\\site-packages\\urllib3\\connection.py:158\u001b[0m, in \u001b[0;36mHTTPConnection._new_conn\u001b[1;34m(self)\u001b[0m\n\u001b[0;32m    155\u001b[0m     extra_kw[\u001b[39m'\u001b[39m\u001b[39msocket_options\u001b[39m\u001b[39m'\u001b[39m] \u001b[39m=\u001b[39m \u001b[39mself\u001b[39m\u001b[39m.\u001b[39msocket_options\n\u001b[0;32m    157\u001b[0m \u001b[39mtry\u001b[39;00m:\n\u001b[1;32m--> 158\u001b[0m     conn \u001b[39m=\u001b[39m connection\u001b[39m.\u001b[39mcreate_connection(\n\u001b[0;32m    159\u001b[0m         (\u001b[39mself\u001b[39m\u001b[39m.\u001b[39m_dns_host, \u001b[39mself\u001b[39m\u001b[39m.\u001b[39mport), \u001b[39mself\u001b[39m\u001b[39m.\u001b[39mtimeout, \u001b[39m*\u001b[39m\u001b[39m*\u001b[39mextra_kw)\n\u001b[0;32m    161\u001b[0m \u001b[39mexcept\u001b[39;00m SocketTimeout:\n\u001b[0;32m    162\u001b[0m     \u001b[39mraise\u001b[39;00m ConnectTimeoutError(\n\u001b[0;32m    163\u001b[0m         \u001b[39mself\u001b[39m, \u001b[39m\"\u001b[39m\u001b[39mConnection to \u001b[39m\u001b[39m%s\u001b[39;00m\u001b[39m timed out. (connect timeout=\u001b[39m\u001b[39m%s\u001b[39;00m\u001b[39m)\u001b[39m\u001b[39m\"\u001b[39m \u001b[39m%\u001b[39m\n\u001b[0;32m    164\u001b[0m         (\u001b[39mself\u001b[39m\u001b[39m.\u001b[39mhost, \u001b[39mself\u001b[39m\u001b[39m.\u001b[39mtimeout))\n",
      "File \u001b[1;32m~\\AppData\\Roaming\\Python\\Python39\\site-packages\\urllib3\\util\\connection.py:70\u001b[0m, in \u001b[0;36mcreate_connection\u001b[1;34m(address, timeout, source_address, socket_options)\u001b[0m\n\u001b[0;32m     68\u001b[0m     \u001b[39mif\u001b[39;00m source_address:\n\u001b[0;32m     69\u001b[0m         sock\u001b[39m.\u001b[39mbind(source_address)\n\u001b[1;32m---> 70\u001b[0m     sock\u001b[39m.\u001b[39;49mconnect(sa)\n\u001b[0;32m     71\u001b[0m     \u001b[39mreturn\u001b[39;00m sock\n\u001b[0;32m     73\u001b[0m \u001b[39mexcept\u001b[39;00m socket\u001b[39m.\u001b[39merror \u001b[39mas\u001b[39;00m e:\n",
      "\u001b[1;31mKeyboardInterrupt\u001b[0m: "
     ]
    }
   ],
   "source": [
    "'''\n",
    "import redis as redis\n",
    "from selenium.common.exceptions import TimeoutException,NoSuchElementException\n",
    "pool = redis.ConnectionPool(host='127.0.0.1',port=6379,password='123456')   \n",
    "r = redis.Redis(connection_pool=pool)\n",
    "homepages={}\n",
    "#for key in pair.keys():\n",
    "global proxy\n",
    "proxy  = get_https_proxy().get(\"proxy\")\n",
    "global flag\n",
    "while len(pair)>0:\n",
    "    key = list(pair.keys())[0]\n",
    "    url = pair.pop(key)\n",
    "    chrome_options =  webdriver.ChromeOptions()\n",
    "    chrome_options.add_argument('blink-settings=imagesEnabled=false')\n",
    "    chrome_options.add_argument(\"-proxy-server={}\".format(proxy))\n",
    "    chrome_options.add_argument('user-agent=Mozilla/5.0 (Windows NT 10.0; Win64; x64)')\n",
    "    driver = webdriver.Chrome(executable_path='C:\\Program Files\\chromedriver\\chromedriver.exe',chrome_options=chrome_options)\n",
    "    #driver.get(\"chrome://version/\",proxies = proxies)\n",
    "    driver.set_page_load_timeout(15) \n",
    "    flag = -1\n",
    "    while flag <0:\n",
    "        try:\n",
    "            driver.get(url)\n",
    "        except Exception:\n",
    "            # 当页面加载时间超过设定时间，通过js来stop，即可执行后续动作\n",
    "         driver.execute_script(\"window.stop()\")\n",
    "        try:\n",
    "            homepages[key]=driver.find_element(by = By.CSS_SELECTOR,value=\"#root > div > div.T_foQflM > div > div > div.leftContainer.w0R6mo9z > div.bQEtX7d8 > div > div.mONd8Zeh > div.CjPRy13J > a\").get_attribute('href')\n",
    "            print(key)\n",
    "            flag = 0\n",
    "        except Exception:\n",
    "            delete_proxy(proxy)\n",
    "            proxy  = get_https_proxy().get(\"proxy\")\n",
    "            chrome_options =  webdriver.ChromeOptions()\n",
    "            chrome_options.add_argument('blink-settings=imagesEnabled=false')\n",
    "            chrome_options.add_argument(\"-proxy-server={}\".format(proxy))\n",
    "            chrome_options.add_argument('user-agent=Mozilla/5.0 (Windows NT 10.0; Win64; x64)')\n",
    "            driver = webdriver.Chrome(executable_path='C:\\Program Files\\chromedriver\\chromedriver.exe',chrome_options=chrome_options)\n",
    "    #driver.get(\"chrome://version/\",proxies = proxies)\n",
    "            driver.set_page_load_timeout(15) \n",
    "            continue\n",
    "    driver.quit()\n",
    "\n",
    "r.hmset('demo_targets', homepages)\n",
    "'''"
   ]
  }
 ],
 "metadata": {
  "kernelspec": {
   "display_name": "Python 3.9.13 ('vosk')",
   "language": "python",
   "name": "python3"
  },
  "language_info": {
   "codemirror_mode": {
    "name": "ipython",
    "version": 3
   },
   "file_extension": ".py",
   "mimetype": "text/x-python",
   "name": "python",
   "nbconvert_exporter": "python",
   "pygments_lexer": "ipython3",
   "version": "3.9.13"
  },
  "orig_nbformat": 4,
  "vscode": {
   "interpreter": {
    "hash": "7ec1d20a9dbf00d5c89e619e94a98cc6cd3b38ec77e6e2640651c2fdf7f30eb3"
   }
  }
 },
 "nbformat": 4,
 "nbformat_minor": 2
}

{
 "cells": [
  {
   "cell_type": "markdown",
   "metadata": {},
   "source": [
    "##### 小批量爬取数据"
   ]
  },
  {
   "cell_type": "code",
   "execution_count": 4,
   "metadata": {},
   "outputs": [],
   "source": [
    "import redis as redis\n",
    "import requests\n",
    "import random\n",
    "import numpy as np\n",
    "import re\n",
    "import os\n",
    "import selenium.webdriver as webdriver\n",
    "from selenium.webdriver.common.by import By\n",
    "from selenium.webdriver.support.wait import WebDriverWait #等待页面加载某些元素\n",
    "from selenium.webdriver.support import expected_conditions as EC\n",
    "\n",
    "import smallLib  as helper\n",
    "\n",
    "pool = redis.ConnectionPool(host='127.0.0.1',port=6379,password='123456',decode_responses=True)   \n",
    "r = redis.Redis(connection_pool=pool)"
   ]
  },
  {
   "cell_type": "code",
   "execution_count": 5,
   "metadata": {},
   "outputs": [],
   "source": [
    "\n",
    "origin_table = 'demo_targets1'\n",
    "names = r.hkeys(origin_table)\n",
    "urls = r.hvals(origin_table)\n",
    "pairs = dict(zip(names,urls))\n",
    "temp_table = 'demo_target_temp'\n",
    "#r.delete(temp_table)\n",
    "#r.hmset(temp_table, pairs) \n",
    "store_table='demo_target_small_batch'"
   ]
  },
  {
   "cell_type": "markdown",
   "metadata": {},
   "source": [
    "- checkpoint1 从用户主页抓取用户视频链接\n",
    "    - 使用selenium模拟访问，滑动页面到底端时可以抓取该用户的全部视频\n",
    "    - 抓取结果缓存进redis，可以使用helper.redis_export(table,name) 导出为json"
   ]
  },
  {
   "cell_type": "code",
   "execution_count": 6,
   "metadata": {},
   "outputs": [],
   "source": [
    "\n",
    "targets = {}\n",
    "pair = helper.get_user(temp_table)\n",
    "'''\n",
    "while len(pair) > 1:\n",
    "    pair= helper.get_user(r,temp_table)\n",
    "    name = pair[0]\n",
    "    url = pair[1]\n",
    "    current_length = len(r.hget('demo_target_small_batch', name).split(','))\n",
    "    try :\n",
    "        href =  helper.get_all_video_form_homepage(url)\n",
    "        if len(href)>0 :\n",
    "            #targets[name] = href\n",
    "            if len(href)>current_length:\n",
    "                r.hset('demo_target_small_batch', name, str(href))\n",
    "            helper.delete_user(r,temp_table,name=name)\n",
    "    except Exception:\n",
    "        continue\n",
    "\n",
    "\n",
    "'''\n"
   ]
  },
  {
   "cell_type": "markdown",
   "metadata": {},
   "source": [
    "- 统计抓取视频数"
   ]
  },
  {
   "cell_type": "code",
   "execution_count": 7,
   "metadata": {},
   "outputs": [],
   "source": [
    "batch = r.hgetall(store_table)\n",
    "cnt= 0\n",
    "for val in batch.values():\n",
    "    cnt += len(val.split(','))\n",
    "#print(cnt)"
   ]
  }
 ],
 "metadata": {
  "kernelspec": {
   "display_name": "Python 3.9.12 ('base')",
   "language": "python",
   "name": "python3"
  },
  "language_info": {
   "codemirror_mode": {
    "name": "ipython",
    "version": 3
   },
   "file_extension": ".py",
   "mimetype": "text/x-python",
   "name": "python",
   "nbconvert_exporter": "python",
   "pygments_lexer": "ipython3",
   "version": "3.9.12 (main, Apr  4 2022, 05:22:27) [MSC v.1916 64 bit (AMD64)]"
  },
  "orig_nbformat": 4,
  "vscode": {
   "interpreter": {
    "hash": "88279d2366fe020547cde40dd65aa0e3aa662a6ec1f3ca12d88834876c85e1a6"
   }
  }
 },
 "nbformat": 4,
 "nbformat_minor": 2
}

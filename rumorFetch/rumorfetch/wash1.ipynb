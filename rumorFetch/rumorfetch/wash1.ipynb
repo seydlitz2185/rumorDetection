{
 "cells": [
  {
   "cell_type": "code",
   "execution_count": null,
   "metadata": {},
   "outputs": [],
   "source": [
    "import os \n",
    "import pandas as pd"
   ]
  },
  {
   "cell_type": "code",
   "execution_count": null,
   "metadata": {},
   "outputs": [],
   "source": [
    "data = pd.read_csv(\"谣言.csv\")"
   ]
  }
 ],
 "metadata": {
  "kernelspec": {
   "display_name": "pygp",
   "language": "python",
   "name": "python3"
  },
  "language_info": {
   "name": "python",
   "version": "3.10.9"
  },
  "orig_nbformat": 4,
  "vscode": {
   "interpreter": {
    "hash": "57f69ae65b9311b88ad9b3c89d7aff5bfae43db05538a96fe65a169e44ea5cfc"
   }
  }
 },
 "nbformat": 4,
 "nbformat_minor": 2
}

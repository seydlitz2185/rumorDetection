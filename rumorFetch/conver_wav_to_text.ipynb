{
 "cells": [
  {
   "cell_type": "code",
   "execution_count": 6,
   "metadata": {},
   "outputs": [],
   "source": [
    "from  ffmpy import FFmpeg as ffmpeg\n",
    "import os\n",
    "import re\n",
    "import transfer\n",
    "import asyncio\n",
    "import redis\n",
    "import smallLib as Helper\n",
    "import asr_server as server"
   ]
  },
  {
   "cell_type": "code",
   "execution_count": 7,
   "metadata": {},
   "outputs": [],
   "source": [
    "pool = redis.ConnectionPool(host='127.0.0.1',port=6379,db = 3,password='123456',decode_responses=True)   \n",
    "\n",
    "permanent_table = 'all_user'\n",
    "temp_table = \"temp\"\n",
    "async def convert(farther_dir,tool):\n",
    "    r = redis.Redis(connection_pool=pool)\n",
    "    while r.hlen(temp_table)>0:\n",
    "        name = r.get('curr')\n",
    "        if name == None:\n",
    "            user= Helper.get_user(r,temp_table)\n",
    "            name = user[0]\n",
    "            r.set('curr',name)\n",
    "            if not os.path.exists(name+os.sep+tool):\n",
    "                os.makedirs(name+os.sep+tool)\n",
    "            sound_list = user[1].split(\".wav,\")\n",
    "            for sound in sound_list:\n",
    "                 r.hset(name,sound+\".wav\",0)\n",
    "            \n",
    "            #print(listx)\n",
    "        while r.hlen(name) > 0:\n",
    "            file  = Helper.redis_hpop(r,name)\n",
    "            if file == None:\n",
    "                continue\n",
    "            input_path =name+os.sep+file\n",
    "            out_path = name+os.sep+tool+os.sep+re.sub(\"(wav)\",\"txt\",file)\n",
    "            #print(input_path+' '+out_path)\n",
    "            try:\n",
    "                \n",
    "#                text = await(server.recognize('ws://localhost:2700',input_path))\n",
    "                text =  await (transfer.run_test(\"ws://localhost:2700\",input_path))\n",
    "                with open (out_path, mode = 'w',encoding='utf-8') as f:\n",
    "                    f.write(text)\n",
    "                    r.hdel(name,file)\n",
    "            except Exception:\n",
    "                    print(out_path)\n",
    "                    continue\n",
    "        r.delete('curr',name)\n",
    "        Helper.delete_user(r,temp_table,name)"
   ]
  },
  {
   "cell_type": "code",
   "execution_count": 8,
   "metadata": {},
   "outputs": [],
   "source": [
    "from unittest.mock import patch\n",
    "\n",
    "\n",
    "def init_table(farther_dir): \n",
    "    r = redis.Redis(connection_pool=pool)\n",
    "    for listx in os.listdir(farther_dir):\n",
    "        file_path = farther_dir+os.sep+listx\n",
    "        path = \"\"\n",
    "        for file in os.listdir(file_path):\n",
    "            if file != \"vosk\":\n",
    "                path+= file+\",\"\n",
    "        r.hset(temp_table ,file_path,path,)\n",
    "\n",
    "#init_table(\"video\")"
   ]
  },
  {
   "cell_type": "code",
   "execution_count": 9,
   "metadata": {},
   "outputs": [
    {
     "name": "stdout",
     "output_type": "stream",
     "text": [
      "1663980600.0\n"
     ]
    }
   ],
   "source": [
    "#server.start()\n",
    "import time \n",
    "import sys\n",
    "def set_time(hour, minute):\n",
    "\n",
    "    now = time.localtime(int(time.time()))\n",
    "    a = str(str(now.tm_year)+'-'+str(now.tm_mon)+'-'+str(now.tm_mday)+' '+hour+':'+minute+':'+'00')\n",
    "    targetTime = time.strptime(a,'%Y-%m-%d %H:%M:%S')\n",
    "    return time.mktime(targetTime)\n",
    "\n",
    "sys.argv=['','8','50']\n",
    "targetTime = set_time(sys.argv[1],sys.argv[2])\n",
    "print(targetTime)\n",
    "\n",
    "while (time.time() < targetTime):\n",
    "        time.sleep(5)\n"
   ]
  },
  {
   "cell_type": "code",
   "execution_count": 10,
   "metadata": {},
   "outputs": [
    {
     "name": "stdout",
     "output_type": "stream",
     "text": [
      "video\\新疆逆龄努医生\\vosk\\.txt\n",
      "video\\新疆逆龄努医生\\vosk\\.txt\n",
      "video\\新疆逆龄努医生\\vosk\\.txt\n",
      "video\\新疆逆龄努医生\\vosk\\.txt\n",
      "video\\新疆逆龄努医生\\vosk\\.txt\n",
      "video\\新疆逆龄努医生\\vosk\\.txt\n",
      "video\\新疆逆龄努医生\\vosk\\.txt\n",
      "video\\新疆逆龄努医生\\vosk\\.txt\n",
      "video\\新疆逆龄努医生\\vosk\\.txt\n"
     ]
    }
   ],
   "source": [
    "await(convert(\"video\",\"vosk\"))"
   ]
  }
 ],
 "metadata": {
  "kernelspec": {
   "display_name": "base",
   "language": "python",
   "name": "python3"
  },
  "language_info": {
   "codemirror_mode": {
    "name": "ipython",
    "version": 3
   },
   "file_extension": ".py",
   "mimetype": "text/x-python",
   "name": "python",
   "nbconvert_exporter": "python",
   "pygments_lexer": "ipython3",
   "version": "3.9.12"
  },
  "orig_nbformat": 4,
  "vscode": {
   "interpreter": {
    "hash": "88279d2366fe020547cde40dd65aa0e3aa662a6ec1f3ca12d88834876c85e1a6"
   }
  }
 },
 "nbformat": 4,
 "nbformat_minor": 2
}

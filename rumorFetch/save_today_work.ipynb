{
 "cells": [
  {
   "cell_type": "code",
   "execution_count": 1,
   "metadata": {},
   "outputs": [],
   "source": [
    "from  ffmpy import FFmpeg as ffmpeg\n",
    "import os\n",
    "import shutil\n",
    "import re\n",
    "import transfer\n",
    "import asyncio\n",
    "import redis\n",
    "import smallLib as Helper\n",
    "import asr_server as server"
   ]
  },
  {
   "cell_type": "code",
   "execution_count": 2,
   "metadata": {},
   "outputs": [],
   "source": [
    "from socket import TCP_NODELAY\n",
    "\n",
    "\n",
    "pool = redis.ConnectionPool(host='127.0.0.1',port=6379,db = 3,password='123456',decode_responses=True)   \n",
    "permanent_table = \"all_user\"\n",
    "temp_table = \"temp\"\n",
    "pre_temp_table = \"pre_temp\"\n",
    "target_disk=r\"H:\\文本\"\n",
    "def check_differenct_user(): \n",
    "    r = redis.Redis(connection_pool=pool)\n",
    "    today_list = r.hkeys(temp_table)\n",
    "    pre_list = r.hkeys(pre_temp_table)\n",
    "    change = list(set(pre_list)-set(today_list))\n",
    "    #change = list(r.hkeys(permanent_table))  \n",
    "    for column in change :\n",
    "        store_column = target_disk+os.sep+column\n",
    "        if not os.path.exists(store_column):\n",
    "            os.makedirs(store_column)\n",
    "        else:\n",
    "            shutil.rmtree(store_column)\n",
    "        shutil.copytree(column+os.sep+\"vosk\", store_column+os.sep+\"vosk\")\n",
    "    restore={}\n",
    "    r.delete(pre_temp_table)\n",
    "    for li in today_list:\n",
    "        restore[li]=li\n",
    "    r.hmset(pre_temp_table,restore)\n",
    "\n",
    "    "
   ]
  },
  {
   "cell_type": "code",
   "execution_count": 3,
   "metadata": {},
   "outputs": [
    {
     "name": "stderr",
     "output_type": "stream",
     "text": [
      "C:\\Users\\Dr.Seydlitz\\AppData\\Local\\Temp\\ipykernel_40768\\3218962920.py:26: DeprecationWarning: Redis.hmset() is deprecated. Use Redis.hset() instead.\n",
      "  r.hmset(pre_temp_table,restore)\n"
     ]
    },
    {
     "ename": "DataError",
     "evalue": "'hmset' with 'mapping' of length 0",
     "output_type": "error",
     "traceback": [
      "\u001b[1;31m---------------------------------------------------------------------------\u001b[0m",
      "\u001b[1;31mDataError\u001b[0m                                 Traceback (most recent call last)",
      "\u001b[1;32md:\\TextMate\\spider\\save_today_work.ipynb Cell 3\u001b[0m in \u001b[0;36m<cell line: 2>\u001b[1;34m()\u001b[0m\n\u001b[0;32m      <a href='vscode-notebook-cell:/d%3A/TextMate/spider/save_today_work.ipynb#W2sZmlsZQ%3D%3D?line=0'>1</a>\u001b[0m r \u001b[39m=\u001b[39m redis\u001b[39m.\u001b[39mRedis(connection_pool\u001b[39m=\u001b[39mpool)\n\u001b[1;32m----> <a href='vscode-notebook-cell:/d%3A/TextMate/spider/save_today_work.ipynb#W2sZmlsZQ%3D%3D?line=1'>2</a>\u001b[0m check_differenct_user()\n",
      "\u001b[1;32md:\\TextMate\\spider\\save_today_work.ipynb Cell 3\u001b[0m in \u001b[0;36mcheck_differenct_user\u001b[1;34m()\u001b[0m\n\u001b[0;32m     <a href='vscode-notebook-cell:/d%3A/TextMate/spider/save_today_work.ipynb#W2sZmlsZQ%3D%3D?line=23'>24</a>\u001b[0m \u001b[39mfor\u001b[39;00m li \u001b[39min\u001b[39;00m today_list:\n\u001b[0;32m     <a href='vscode-notebook-cell:/d%3A/TextMate/spider/save_today_work.ipynb#W2sZmlsZQ%3D%3D?line=24'>25</a>\u001b[0m     restore[li]\u001b[39m=\u001b[39mli\n\u001b[1;32m---> <a href='vscode-notebook-cell:/d%3A/TextMate/spider/save_today_work.ipynb#W2sZmlsZQ%3D%3D?line=25'>26</a>\u001b[0m r\u001b[39m.\u001b[39;49mhmset(pre_temp_table,restore)\n",
      "File \u001b[1;32m~\\AppData\\Roaming\\Python\\Python39\\site-packages\\redis\\commands\\core.py:4866\u001b[0m, in \u001b[0;36mHashCommands.hmset\u001b[1;34m(self, name, mapping)\u001b[0m\n\u001b[0;32m   4859\u001b[0m warnings\u001b[39m.\u001b[39mwarn(\n\u001b[0;32m   4860\u001b[0m     \u001b[39mf\u001b[39m\u001b[39m\"\u001b[39m\u001b[39m{\u001b[39;00m\u001b[39mself\u001b[39m\u001b[39m.\u001b[39m\u001b[39m__class__\u001b[39m\u001b[39m.\u001b[39m\u001b[39m__name__\u001b[39m\u001b[39m}\u001b[39;00m\u001b[39m.hmset() is deprecated. \u001b[39m\u001b[39m\"\u001b[39m\n\u001b[0;32m   4861\u001b[0m     \u001b[39mf\u001b[39m\u001b[39m\"\u001b[39m\u001b[39mUse \u001b[39m\u001b[39m{\u001b[39;00m\u001b[39mself\u001b[39m\u001b[39m.\u001b[39m\u001b[39m__class__\u001b[39m\u001b[39m.\u001b[39m\u001b[39m__name__\u001b[39m\u001b[39m}\u001b[39;00m\u001b[39m.hset() instead.\u001b[39m\u001b[39m\"\u001b[39m,\n\u001b[0;32m   4862\u001b[0m     \u001b[39mDeprecationWarning\u001b[39;00m,\n\u001b[0;32m   4863\u001b[0m     stacklevel\u001b[39m=\u001b[39m\u001b[39m2\u001b[39m,\n\u001b[0;32m   4864\u001b[0m )\n\u001b[0;32m   4865\u001b[0m \u001b[39mif\u001b[39;00m \u001b[39mnot\u001b[39;00m mapping:\n\u001b[1;32m-> 4866\u001b[0m     \u001b[39mraise\u001b[39;00m DataError(\u001b[39m\"\u001b[39m\u001b[39m'\u001b[39m\u001b[39mhmset\u001b[39m\u001b[39m'\u001b[39m\u001b[39m with \u001b[39m\u001b[39m'\u001b[39m\u001b[39mmapping\u001b[39m\u001b[39m'\u001b[39m\u001b[39m of length 0\u001b[39m\u001b[39m\"\u001b[39m)\n\u001b[0;32m   4867\u001b[0m items \u001b[39m=\u001b[39m []\n\u001b[0;32m   4868\u001b[0m \u001b[39mfor\u001b[39;00m pair \u001b[39min\u001b[39;00m mapping\u001b[39m.\u001b[39mitems():\n",
      "\u001b[1;31mDataError\u001b[0m: 'hmset' with 'mapping' of length 0"
     ]
    }
   ],
   "source": [
    "r = redis.Redis(connection_pool=pool)\n",
    "check_differenct_user()"
   ]
  }
 ],
 "metadata": {
  "kernelspec": {
   "display_name": "base",
   "language": "python",
   "name": "python3"
  },
  "language_info": {
   "codemirror_mode": {
    "name": "ipython",
    "version": 3
   },
   "file_extension": ".py",
   "mimetype": "text/x-python",
   "name": "python",
   "nbconvert_exporter": "python",
   "pygments_lexer": "ipython3",
   "version": "3.9.12"
  },
  "orig_nbformat": 4,
  "vscode": {
   "interpreter": {
    "hash": "88279d2366fe020547cde40dd65aa0e3aa662a6ec1f3ca12d88834876c85e1a6"
   }
  }
 },
 "nbformat": 4,
 "nbformat_minor": 2
}

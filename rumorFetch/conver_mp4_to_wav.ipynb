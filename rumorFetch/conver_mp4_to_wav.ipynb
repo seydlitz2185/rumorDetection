{
 "cells": [
  {
   "attachments": {},
   "cell_type": "markdown",
   "metadata": {},
   "source": [
    "#### 完成视频下载后，使用"
   ]
  },
  {
   "cell_type": "code",
   "execution_count": 33,
   "metadata": {},
   "outputs": [],
   "source": [
    "from  ffmpy import FFmpeg as ffmpeg\n",
    "import os\n",
    "import re"
   ]
  },
  {
   "cell_type": "code",
   "execution_count": 34,
   "metadata": {},
   "outputs": [],
   "source": [
    "def convert(farther_dir):\n",
    "    for listx in os.listdir(farther_dir):\n",
    "        file_path = farther_dir+os.sep+listx\n",
    "        #print(file_path)\n",
    "        for file in os.listdir(file_path):\n",
    "            #print(listx)\n",
    "            if(file.find(\"mp4\")>0):\n",
    "                input_path = file_path+os.sep+file\n",
    "                out_path = file_path+os.sep+re.sub(\"(mp4)\",\"wav\",file)\n",
    "                #print(input_path+' '+out_path)\n",
    "                try:\n",
    "                    ff = ffmpeg(inputs={input_path: None},outputs={out_path: '-acodec pcm_s16le -f s16le -ac 1 -ar 16000 -f wav',})\n",
    "                    ff.run()\n",
    "                except Exception:\n",
    "                    print(input_path)\n",
    "                    continue\n",
    "                os.remove(input_path)\n",
    "            else:\n",
    "                continue"
   ]
  },
  {
   "cell_type": "code",
   "execution_count": 35,
   "metadata": {},
   "outputs": [
    {
     "name": "stdout",
     "output_type": "stream",
     "text": [
      "video\\医路向前巍子\\接着昨天的视频，希望各位家长不要刻意避开性教育，对于孩子来说，你们是这 - 抖音.mp4\n",
      "video\\木鱼医生\\清宿便排毒养颜，真的靠谱吗？别再交智商税啦 #这波操作稳了  @肛肠科 - 抖音.mp4\n"
     ]
    }
   ],
   "source": [
    "convert(\"video\")"
   ]
  }
 ],
 "metadata": {
  "kernelspec": {
   "display_name": "base",
   "language": "python",
   "name": "python3"
  },
  "language_info": {
   "name": "python",
   "version": "3.9.12"
  },
  "orig_nbformat": 4,
  "vscode": {
   "interpreter": {
    "hash": "88279d2366fe020547cde40dd65aa0e3aa662a6ec1f3ca12d88834876c85e1a6"
   }
  }
 },
 "nbformat": 4,
 "nbformat_minor": 2
}

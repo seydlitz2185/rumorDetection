{
 "cells": [
  {
   "cell_type": "code",
   "execution_count": 1,
   "metadata": {},
   "outputs": [
    {
     "name": "stdout",
     "output_type": "stream",
     "text": [
      "[<asrt_sdk.utils.AsrtApiResponse object at 0x00000224B9CECF10>, <asrt_sdk.utils.AsrtApiResponse object at 0x00000224B9680A00>, <asrt_sdk.utils.AsrtApiResponse object at 0x00000224B9CECF40>, <asrt_sdk.utils.AsrtApiResponse object at 0x00000224B9680670>, <asrt_sdk.utils.AsrtApiResponse object at 0x00000224B92A82E0>, <asrt_sdk.utils.AsrtApiResponse object at 0x00000224B9CF8700>, <asrt_sdk.utils.AsrtApiResponse object at 0x00000224B9CF86A0>]\n",
      "第 0 段: 有新到期我一资的幻女啊静长只是思给领的是如我你长起沙仔的连衣一定鸟注意一下午别滴个不同吃情况能们得对啊自\n",
      "第 1 段: 擎过敏卫视有会在起可的要倒置效法地伫立式耳给近的位航道会养步者是有初雪提纸人你上起后是不适的\n",
      "第 2 段: 那点注一个的是啊期己的朋通晾一以六发过福优冷们察我养有范结谱有泡头养儿要用时要的温水冲非容易后\n",
      "第 3 段: 不要知节的六水舅和避三了发验椅一初雪鸭皮服你们百一点啊会者他编带也别情况自球游吗攀地的时即时的就应\n",
      "第 4 段: 这色点通东并使得会服药企监而如果出下通通动软行应年历及九一他人一助来评估是否会要并检的该坚策这个\n",
      "第 5 段: 定算的是平有关头适合其他历要的耍流若图技术啊考学要啊因及时告诉一手一你了要想不作有还这将\n",
      "第 6 段: 出去风建\n"
     ]
    },
    {
     "ename": "Exception",
     "evalue": "Too long wave sample byte length: `1963852`, the max length is `512000`",
     "output_type": "error",
     "traceback": [
      "\u001b[1;31m---------------------------------------------------------------------------\u001b[0m",
      "\u001b[1;31mException\u001b[0m                                 Traceback (most recent call last)",
      "\u001b[1;32md:\\TextMate\\spider\\asrt_test.ipynb Cell 1\u001b[0m in \u001b[0;36m<cell line: 19>\u001b[1;34m()\u001b[0m\n\u001b[0;32m     <a href='vscode-notebook-cell:/d%3A/TextMate/spider/asrt_test.ipynb#W0sZmlsZQ%3D%3D?line=14'>15</a>\u001b[0m     \u001b[39mprint\u001b[39m(\u001b[39m\"\u001b[39m\u001b[39m第\u001b[39m\u001b[39m\"\u001b[39m, index, \u001b[39m\"\u001b[39m\u001b[39m段:\u001b[39m\u001b[39m\"\u001b[39m, item\u001b[39m.\u001b[39mresult)\n\u001b[0;32m     <a href='vscode-notebook-cell:/d%3A/TextMate/spider/asrt_test.ipynb#W0sZmlsZQ%3D%3D?line=17'>18</a>\u001b[0m wave_data \u001b[39m=\u001b[39m asrt_sdk\u001b[39m.\u001b[39mread_wav_datas(FILENAME)\n\u001b[1;32m---> <a href='vscode-notebook-cell:/d%3A/TextMate/spider/asrt_test.ipynb#W0sZmlsZQ%3D%3D?line=18'>19</a>\u001b[0m result \u001b[39m=\u001b[39m speech_recognizer\u001b[39m.\u001b[39;49mrecognite_speech(wave_data\u001b[39m.\u001b[39;49mstr_data,\n\u001b[0;32m     <a href='vscode-notebook-cell:/d%3A/TextMate/spider/asrt_test.ipynb#W0sZmlsZQ%3D%3D?line=19'>20</a>\u001b[0m                                             wave_data\u001b[39m.\u001b[39;49msample_rate,\n\u001b[0;32m     <a href='vscode-notebook-cell:/d%3A/TextMate/spider/asrt_test.ipynb#W0sZmlsZQ%3D%3D?line=20'>21</a>\u001b[0m                                             wave_data\u001b[39m.\u001b[39;49mchannels,\n\u001b[0;32m     <a href='vscode-notebook-cell:/d%3A/TextMate/spider/asrt_test.ipynb#W0sZmlsZQ%3D%3D?line=21'>22</a>\u001b[0m                                             wave_data\u001b[39m.\u001b[39;49mbyte_width)\n\u001b[0;32m     <a href='vscode-notebook-cell:/d%3A/TextMate/spider/asrt_test.ipynb#W0sZmlsZQ%3D%3D?line=22'>23</a>\u001b[0m \u001b[39mprint\u001b[39m(result)\n\u001b[0;32m     <a href='vscode-notebook-cell:/d%3A/TextMate/spider/asrt_test.ipynb#W0sZmlsZQ%3D%3D?line=23'>24</a>\u001b[0m \u001b[39mprint\u001b[39m(result\u001b[39m.\u001b[39mresult)\n",
      "File \u001b[1;32m~\\AppData\\Roaming\\Python\\Python39\\site-packages\\asrt_sdk\\speech_recognizer.py:145\u001b[0m, in \u001b[0;36mHttpSpeechRecognizer.recognite_speech\u001b[1;34m(self, wav_data, frame_rate, channels, byte_width)\u001b[0m\n\u001b[0;32m    141\u001b[0m \u001b[39m'''\u001b[39;00m\n\u001b[0;32m    142\u001b[0m \u001b[39m调用声学模型识别wav语音序列为拼音序列\u001b[39;00m\n\u001b[0;32m    143\u001b[0m \u001b[39m'''\u001b[39;00m\n\u001b[0;32m    144\u001b[0m \u001b[39mif\u001b[39;00m \u001b[39mlen\u001b[39m(wav_data) \u001b[39m>\u001b[39m \u001b[39mself\u001b[39m\u001b[39m.\u001b[39m_wav_data_max_length:\n\u001b[1;32m--> 145\u001b[0m     \u001b[39mraise\u001b[39;00m \u001b[39mException\u001b[39;00m(\u001b[39m'\u001b[39m\u001b[39mToo long wave sample byte length: `\u001b[39m\u001b[39m'\u001b[39m \u001b[39m+\u001b[39m \u001b[39mstr\u001b[39m(\u001b[39mlen\u001b[39m(wav_data))\n\u001b[0;32m    146\u001b[0m         \u001b[39m+\u001b[39m \u001b[39m\"\u001b[39m\u001b[39m`, the max length is `\u001b[39m\u001b[39m\"\u001b[39m \u001b[39m+\u001b[39m \u001b[39mstr\u001b[39m(\u001b[39mself\u001b[39m\u001b[39m.\u001b[39m_wav_data_max_length) \u001b[39m+\u001b[39m \u001b[39m\"\u001b[39m\u001b[39m`\u001b[39m\u001b[39m\"\u001b[39m)\n\u001b[0;32m    148\u001b[0m request_body \u001b[39m=\u001b[39m AsrtApiSpeechRequest(wav_data, frame_rate, channels, byte_width)\n\u001b[0;32m    149\u001b[0m headers \u001b[39m=\u001b[39m {\u001b[39m'\u001b[39m\u001b[39mContent-Type\u001b[39m\u001b[39m'\u001b[39m: \u001b[39m'\u001b[39m\u001b[39mapplication/json\u001b[39m\u001b[39m'\u001b[39m}\n",
      "\u001b[1;31mException\u001b[0m: Too long wave sample byte length: `1963852`, the max length is `512000`"
     ]
    }
   ],
   "source": [
    "import asrt_sdk\n",
    "\n",
    "HOST = '127.0.0.1'\n",
    "PORT = '20001'\n",
    "PROTOCOL = 'http'\n",
    "SUB_PATH = ''\n",
    "speech_recognizer = asrt_sdk.get_speech_recognizer(HOST, PORT, PROTOCOL)\n",
    "speech_recognizer.sub_path = SUB_PATH\n",
    "\n",
    "FILENAME = 'output.wav'\n",
    "result = speech_recognizer.recognite_file(FILENAME)\n",
    "print(result)\n",
    "for index in range(0, len(result)):\n",
    "    item = result[index]\n",
    "    print(\"第\", index, \"段:\", item.result)\n",
    "\n",
    "\n",
    "wave_data = asrt_sdk.read_wav_datas(FILENAME)\n",
    "result = speech_recognizer.recognite_speech(wave_data.str_data,\n",
    "                                            wave_data.sample_rate,\n",
    "                                            wave_data.channels,\n",
    "                                            wave_data.byte_width)\n",
    "print(result)\n",
    "print(result.result)\n",
    "\n",
    "result = speech_recognizer.recognite_language(result.result)\n",
    "print(result)\n",
    "print(result.result)"
   ]
  }
 ],
 "metadata": {
  "kernelspec": {
   "display_name": "Python 3.9.12 ('base')",
   "language": "python",
   "name": "python3"
  },
  "language_info": {
   "codemirror_mode": {
    "name": "ipython",
    "version": 3
   },
   "file_extension": ".py",
   "mimetype": "text/x-python",
   "name": "python",
   "nbconvert_exporter": "python",
   "pygments_lexer": "ipython3",
   "version": "3.9.12"
  },
  "orig_nbformat": 4,
  "vscode": {
   "interpreter": {
    "hash": "88279d2366fe020547cde40dd65aa0e3aa662a6ec1f3ca12d88834876c85e1a6"
   }
  }
 },
 "nbformat": 4,
 "nbformat_minor": 2
}

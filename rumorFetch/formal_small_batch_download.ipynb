{
 "cells": [
  {
   "cell_type": "markdown",
   "metadata": {},
   "source": [
    "##### 小批量下载"
   ]
  },
  {
   "cell_type": "code",
   "execution_count": 8,
   "metadata": {},
   "outputs": [],
   "source": [
    "import smallLib as helper\n",
    "import redis as redis\n",
    "import requests\n",
    "import random\n",
    "import numpy as np\n",
    "import re\n",
    "import os\n",
    "import selenium.webdriver as webdriver\n",
    "from selenium.webdriver.common.by import By\n",
    "from selenium.webdriver.support.wait import WebDriverWait #等待页面加载某些元素\n",
    "from selenium.webdriver.support import expected_conditions as EC"
   ]
  },
  {
   "cell_type": "code",
   "execution_count": 9,
   "metadata": {},
   "outputs": [],
   "source": [
    "import json\n",
    "from tempfile import tempdir\n",
    "\n",
    "pool = redis.ConnectionPool(host='127.0.0.1',port=6379,db =1,password='123456',decode_responses=True)   \n",
    "r = redis.Redis(connection_pool=pool)\n",
    "temp_table = 'all_user'\n",
    "def restore_table(pool,origin,temp): \n",
    "    r = redis.Redis(connection_pool=pool)\n",
    "    table = r.hgetall(origin)\n",
    "    temp_table = temp\n",
    "    r.hmset(temp_table, table)\n",
    "\n",
    "#设置容忍度，若一个用户主页中下载成功的视频不足总视频量的tolerence，则重新开始下载该用户主页\n",
    "\n",
    "def check_empty_dir_and_update_redis(farther_dir,table,tolerence):\n",
    "    need_retry={}\n",
    "    for listx in os.listdir(farther_dir):\n",
    "        num = len(os.listdir(farther_dir+os.sep+listx))\n",
    "        ls  = r.hget(table,listx)\n",
    "        if num > len(ls.split(','))*tolerence:\n",
    "            #print(listx)\n",
    "            helper.delete_user(r,table,listx)"
   ]
  },
  {
   "cell_type": "code",
   "execution_count": 10,
   "metadata": {},
   "outputs": [
    {
     "ename": "KeyboardInterrupt",
     "evalue": "",
     "output_type": "error",
     "traceback": [
      "\u001b[1;31m---------------------------------------------------------------------------\u001b[0m",
      "\u001b[1;31mWantReadError\u001b[0m                             Traceback (most recent call last)",
      "File \u001b[1;32m~\\AppData\\Roaming\\Python\\Python39\\site-packages\\urllib3\\contrib\\pyopenssl.py:297\u001b[0m, in \u001b[0;36mWrappedSocket.recv_into\u001b[1;34m(self, *args, **kwargs)\u001b[0m\n\u001b[0;32m    296\u001b[0m \u001b[39mtry\u001b[39;00m:\n\u001b[1;32m--> 297\u001b[0m     \u001b[39mreturn\u001b[39;00m \u001b[39mself\u001b[39m\u001b[39m.\u001b[39mconnection\u001b[39m.\u001b[39mrecv_into(\u001b[39m*\u001b[39margs, \u001b[39m*\u001b[39m\u001b[39m*\u001b[39mkwargs)\n\u001b[0;32m    298\u001b[0m \u001b[39mexcept\u001b[39;00m OpenSSL\u001b[39m.\u001b[39mSSL\u001b[39m.\u001b[39mSysCallError \u001b[39mas\u001b[39;00m e:\n",
      "File \u001b[1;32mD:\\Anaconda\\lib\\site-packages\\OpenSSL\\SSL.py:1800\u001b[0m, in \u001b[0;36mConnection.recv_into\u001b[1;34m(self, buffer, nbytes, flags)\u001b[0m\n\u001b[0;32m   1799\u001b[0m     result \u001b[39m=\u001b[39m _lib\u001b[39m.\u001b[39mSSL_read(\u001b[39mself\u001b[39m\u001b[39m.\u001b[39m_ssl, buf, nbytes)\n\u001b[1;32m-> 1800\u001b[0m \u001b[39mself\u001b[39;49m\u001b[39m.\u001b[39;49m_raise_ssl_error(\u001b[39mself\u001b[39;49m\u001b[39m.\u001b[39;49m_ssl, result)\n\u001b[0;32m   1802\u001b[0m \u001b[39m# This strange line is all to avoid a memory copy. The buffer protocol\u001b[39;00m\n\u001b[0;32m   1803\u001b[0m \u001b[39m# should allow us to assign a CFFI buffer to the LHS of this line, but\u001b[39;00m\n\u001b[0;32m   1804\u001b[0m \u001b[39m# on CPython 3.3+ that segfaults. As a workaround, we can temporarily\u001b[39;00m\n\u001b[0;32m   1805\u001b[0m \u001b[39m# wrap it in a memoryview.\u001b[39;00m\n",
      "File \u001b[1;32mD:\\Anaconda\\lib\\site-packages\\OpenSSL\\SSL.py:1607\u001b[0m, in \u001b[0;36mConnection._raise_ssl_error\u001b[1;34m(self, ssl, result)\u001b[0m\n\u001b[0;32m   1606\u001b[0m \u001b[39mif\u001b[39;00m error \u001b[39m==\u001b[39m _lib\u001b[39m.\u001b[39mSSL_ERROR_WANT_READ:\n\u001b[1;32m-> 1607\u001b[0m     \u001b[39mraise\u001b[39;00m WantReadError()\n\u001b[0;32m   1608\u001b[0m \u001b[39melif\u001b[39;00m error \u001b[39m==\u001b[39m _lib\u001b[39m.\u001b[39mSSL_ERROR_WANT_WRITE:\n",
      "\u001b[1;31mWantReadError\u001b[0m: ",
      "\nDuring handling of the above exception, another exception occurred:\n",
      "\u001b[1;31mKeyboardInterrupt\u001b[0m                         Traceback (most recent call last)",
      "\u001b[1;32md:\\TextMate\\spider\\small_batch_download.ipynb Cell 4\u001b[0m in \u001b[0;36m<cell line: 5>\u001b[1;34m()\u001b[0m\n\u001b[0;32m     <a href='vscode-notebook-cell:/d%3A/TextMate/spider/small_batch_download.ipynb#W3sZmlsZQ%3D%3D?line=19'>20</a>\u001b[0m url \u001b[39m=\u001b[39m helper\u001b[39m.\u001b[39mredis_hpop(r,name)  \n\u001b[0;32m     <a href='vscode-notebook-cell:/d%3A/TextMate/spider/small_batch_download.ipynb#W3sZmlsZQ%3D%3D?line=20'>21</a>\u001b[0m \u001b[39mtry\u001b[39;00m :\n\u001b[1;32m---> <a href='vscode-notebook-cell:/d%3A/TextMate/spider/small_batch_download.ipynb#W3sZmlsZQ%3D%3D?line=21'>22</a>\u001b[0m     helper\u001b[39m.\u001b[39;49mdown_load_video_from_user_homepage(name,url)\n\u001b[0;32m     <a href='vscode-notebook-cell:/d%3A/TextMate/spider/small_batch_download.ipynb#W3sZmlsZQ%3D%3D?line=22'>23</a>\u001b[0m     r\u001b[39m.\u001b[39mhdel(name,url)\n\u001b[0;32m     <a href='vscode-notebook-cell:/d%3A/TextMate/spider/small_batch_download.ipynb#W3sZmlsZQ%3D%3D?line=23'>24</a>\u001b[0m     time\u001b[39m.\u001b[39msleep(random\u001b[39m.\u001b[39muniform(\u001b[39m0.1\u001b[39m,\u001b[39m1.1\u001b[39m))\n",
      "File \u001b[1;32md:\\TextMate\\spider\\smallLib.py:152\u001b[0m, in \u001b[0;36mdown_load_video_from_user_homepage\u001b[1;34m(name, url)\u001b[0m\n\u001b[0;32m    150\u001b[0m     os\u001b[39m.\u001b[39mmakedirs(path)\n\u001b[0;32m    151\u001b[0m \u001b[39mtry\u001b[39;00m :\n\u001b[1;32m--> 152\u001b[0m     response \u001b[39m=\u001b[39m getHtml(url)\n\u001b[0;32m    153\u001b[0m     res \u001b[39m=\u001b[39m response\u001b[39m.\u001b[39mtext\n\u001b[0;32m    154\u001b[0m     downloadVideo(path,res)\n",
      "File \u001b[1;32md:\\TextMate\\spider\\smallLib.py:83\u001b[0m, in \u001b[0;36mgetHtml\u001b[1;34m(url)\u001b[0m\n\u001b[0;32m     80\u001b[0m \u001b[39mwhile\u001b[39;00m retry_count \u001b[39m>\u001b[39m \u001b[39m0\u001b[39m:\n\u001b[0;32m     81\u001b[0m     \u001b[39mtry\u001b[39;00m:\n\u001b[0;32m     82\u001b[0m        \u001b[39m# html = requests.get('http://demo.spiderpy.cn/',headers = headers.get('naive_header'),timeout=3,proxies={\"http\": \"http://{}\".format(proxy)})\u001b[39;00m\n\u001b[1;32m---> 83\u001b[0m         html \u001b[39m=\u001b[39m requests\u001b[39m.\u001b[39;49mget(url\u001b[39m=\u001b[39;49murl,headers \u001b[39m=\u001b[39;49m headers\u001b[39m.\u001b[39;49mget(\u001b[39m'\u001b[39;49m\u001b[39mnaive_header\u001b[39;49m\u001b[39m'\u001b[39;49m), proxies\u001b[39m=\u001b[39;49m{\u001b[39m\"\u001b[39;49m\u001b[39mhttp\u001b[39;49m\u001b[39m\"\u001b[39;49m: \u001b[39m\"\u001b[39;49m\u001b[39mhttp://\u001b[39;49m\u001b[39m{}\u001b[39;49;00m\u001b[39m\"\u001b[39;49m\u001b[39m.\u001b[39;49mformat(proxy)},timeout\u001b[39m=\u001b[39;49m\u001b[39m1\u001b[39;49m, )\n\u001b[0;32m     84\u001b[0m         \u001b[39m# 使用代理访问\u001b[39;00m\n\u001b[0;32m     85\u001b[0m         \u001b[39m#print('bar')\u001b[39;00m\n\u001b[0;32m     86\u001b[0m         \u001b[39mreturn\u001b[39;00m html\n",
      "File \u001b[1;32m~\\AppData\\Roaming\\Python\\Python39\\site-packages\\requests\\api.py:75\u001b[0m, in \u001b[0;36mget\u001b[1;34m(url, params, **kwargs)\u001b[0m\n\u001b[0;32m     64\u001b[0m \u001b[39mr\u001b[39m\u001b[39m\"\"\"Sends a GET request.\u001b[39;00m\n\u001b[0;32m     65\u001b[0m \n\u001b[0;32m     66\u001b[0m \u001b[39m:param url: URL for the new :class:`Request` object.\u001b[39;00m\n\u001b[1;32m   (...)\u001b[0m\n\u001b[0;32m     71\u001b[0m \u001b[39m:rtype: requests.Response\u001b[39;00m\n\u001b[0;32m     72\u001b[0m \u001b[39m\"\"\"\u001b[39;00m\n\u001b[0;32m     74\u001b[0m kwargs\u001b[39m.\u001b[39msetdefault(\u001b[39m'\u001b[39m\u001b[39mallow_redirects\u001b[39m\u001b[39m'\u001b[39m, \u001b[39mTrue\u001b[39;00m)\n\u001b[1;32m---> 75\u001b[0m \u001b[39mreturn\u001b[39;00m request(\u001b[39m'\u001b[39m\u001b[39mget\u001b[39m\u001b[39m'\u001b[39m, url, params\u001b[39m=\u001b[39mparams, \u001b[39m*\u001b[39m\u001b[39m*\u001b[39mkwargs)\n",
      "File \u001b[1;32m~\\AppData\\Roaming\\Python\\Python39\\site-packages\\requests\\api.py:60\u001b[0m, in \u001b[0;36mrequest\u001b[1;34m(method, url, **kwargs)\u001b[0m\n\u001b[0;32m     56\u001b[0m \u001b[39m# By using the 'with' statement we are sure the session is closed, thus we\u001b[39;00m\n\u001b[0;32m     57\u001b[0m \u001b[39m# avoid leaving sockets open which can trigger a ResourceWarning in some\u001b[39;00m\n\u001b[0;32m     58\u001b[0m \u001b[39m# cases, and look like a memory leak in others.\u001b[39;00m\n\u001b[0;32m     59\u001b[0m \u001b[39mwith\u001b[39;00m sessions\u001b[39m.\u001b[39mSession() \u001b[39mas\u001b[39;00m session:\n\u001b[1;32m---> 60\u001b[0m     \u001b[39mreturn\u001b[39;00m session\u001b[39m.\u001b[39mrequest(method\u001b[39m=\u001b[39mmethod, url\u001b[39m=\u001b[39murl, \u001b[39m*\u001b[39m\u001b[39m*\u001b[39mkwargs)\n",
      "File \u001b[1;32m~\\AppData\\Roaming\\Python\\Python39\\site-packages\\requests\\sessions.py:524\u001b[0m, in \u001b[0;36mSession.request\u001b[1;34m(self, method, url, params, data, headers, cookies, files, auth, timeout, allow_redirects, proxies, hooks, stream, verify, cert, json)\u001b[0m\n\u001b[0;32m    519\u001b[0m send_kwargs \u001b[39m=\u001b[39m {\n\u001b[0;32m    520\u001b[0m     \u001b[39m'\u001b[39m\u001b[39mtimeout\u001b[39m\u001b[39m'\u001b[39m: timeout,\n\u001b[0;32m    521\u001b[0m     \u001b[39m'\u001b[39m\u001b[39mallow_redirects\u001b[39m\u001b[39m'\u001b[39m: allow_redirects,\n\u001b[0;32m    522\u001b[0m }\n\u001b[0;32m    523\u001b[0m send_kwargs\u001b[39m.\u001b[39mupdate(settings)\n\u001b[1;32m--> 524\u001b[0m resp \u001b[39m=\u001b[39m \u001b[39mself\u001b[39m\u001b[39m.\u001b[39msend(prep, \u001b[39m*\u001b[39m\u001b[39m*\u001b[39msend_kwargs)\n\u001b[0;32m    526\u001b[0m \u001b[39mreturn\u001b[39;00m resp\n",
      "File \u001b[1;32m~\\AppData\\Roaming\\Python\\Python39\\site-packages\\requests\\sessions.py:677\u001b[0m, in \u001b[0;36mSession.send\u001b[1;34m(self, request, **kwargs)\u001b[0m\n\u001b[0;32m    674\u001b[0m         \u001b[39mpass\u001b[39;00m\n\u001b[0;32m    676\u001b[0m \u001b[39mif\u001b[39;00m \u001b[39mnot\u001b[39;00m stream:\n\u001b[1;32m--> 677\u001b[0m     r\u001b[39m.\u001b[39;49mcontent\n\u001b[0;32m    679\u001b[0m \u001b[39mreturn\u001b[39;00m r\n",
      "File \u001b[1;32m~\\AppData\\Roaming\\Python\\Python39\\site-packages\\requests\\models.py:828\u001b[0m, in \u001b[0;36mResponse.content\u001b[1;34m(self)\u001b[0m\n\u001b[0;32m    826\u001b[0m         \u001b[39mself\u001b[39m\u001b[39m.\u001b[39m_content \u001b[39m=\u001b[39m \u001b[39mNone\u001b[39;00m\n\u001b[0;32m    827\u001b[0m     \u001b[39melse\u001b[39;00m:\n\u001b[1;32m--> 828\u001b[0m         \u001b[39mself\u001b[39m\u001b[39m.\u001b[39m_content \u001b[39m=\u001b[39m \u001b[39mb\u001b[39;49m\u001b[39m'\u001b[39;49m\u001b[39m'\u001b[39;49m\u001b[39m.\u001b[39;49mjoin(\u001b[39mself\u001b[39;49m\u001b[39m.\u001b[39;49miter_content(CONTENT_CHUNK_SIZE)) \u001b[39mor\u001b[39;00m \u001b[39mb\u001b[39m\u001b[39m'\u001b[39m\u001b[39m'\u001b[39m\n\u001b[0;32m    830\u001b[0m \u001b[39mself\u001b[39m\u001b[39m.\u001b[39m_content_consumed \u001b[39m=\u001b[39m \u001b[39mTrue\u001b[39;00m\n\u001b[0;32m    831\u001b[0m \u001b[39m# don't need to release the connection; that's been handled by urllib3\u001b[39;00m\n\u001b[0;32m    832\u001b[0m \u001b[39m# since we exhausted the data.\u001b[39;00m\n",
      "File \u001b[1;32m~\\AppData\\Roaming\\Python\\Python39\\site-packages\\requests\\models.py:750\u001b[0m, in \u001b[0;36mResponse.iter_content.<locals>.generate\u001b[1;34m()\u001b[0m\n\u001b[0;32m    748\u001b[0m \u001b[39mif\u001b[39;00m \u001b[39mhasattr\u001b[39m(\u001b[39mself\u001b[39m\u001b[39m.\u001b[39mraw, \u001b[39m'\u001b[39m\u001b[39mstream\u001b[39m\u001b[39m'\u001b[39m):\n\u001b[0;32m    749\u001b[0m     \u001b[39mtry\u001b[39;00m:\n\u001b[1;32m--> 750\u001b[0m         \u001b[39mfor\u001b[39;00m chunk \u001b[39min\u001b[39;00m \u001b[39mself\u001b[39m\u001b[39m.\u001b[39mraw\u001b[39m.\u001b[39mstream(chunk_size, decode_content\u001b[39m=\u001b[39m\u001b[39mTrue\u001b[39;00m):\n\u001b[0;32m    751\u001b[0m             \u001b[39myield\u001b[39;00m chunk\n\u001b[0;32m    752\u001b[0m     \u001b[39mexcept\u001b[39;00m ProtocolError \u001b[39mas\u001b[39;00m e:\n",
      "File \u001b[1;32m~\\AppData\\Roaming\\Python\\Python39\\site-packages\\urllib3\\response.py:492\u001b[0m, in \u001b[0;36mHTTPResponse.stream\u001b[1;34m(self, amt, decode_content)\u001b[0m\n\u001b[0;32m    476\u001b[0m \u001b[39m\"\"\"\u001b[39;00m\n\u001b[0;32m    477\u001b[0m \u001b[39mA generator wrapper for the read() method. A call will block until\u001b[39;00m\n\u001b[0;32m    478\u001b[0m \u001b[39m``amt`` bytes have been read from the connection or until the\u001b[39;00m\n\u001b[1;32m   (...)\u001b[0m\n\u001b[0;32m    489\u001b[0m \u001b[39m    'content-encoding' header.\u001b[39;00m\n\u001b[0;32m    490\u001b[0m \u001b[39m\"\"\"\u001b[39;00m\n\u001b[0;32m    491\u001b[0m \u001b[39mif\u001b[39;00m \u001b[39mself\u001b[39m\u001b[39m.\u001b[39mchunked \u001b[39mand\u001b[39;00m \u001b[39mself\u001b[39m\u001b[39m.\u001b[39msupports_chunked_reads():\n\u001b[1;32m--> 492\u001b[0m     \u001b[39mfor\u001b[39;00m line \u001b[39min\u001b[39;00m \u001b[39mself\u001b[39m\u001b[39m.\u001b[39mread_chunked(amt, decode_content\u001b[39m=\u001b[39mdecode_content):\n\u001b[0;32m    493\u001b[0m         \u001b[39myield\u001b[39;00m line\n\u001b[0;32m    494\u001b[0m \u001b[39melse\u001b[39;00m:\n",
      "File \u001b[1;32m~\\AppData\\Roaming\\Python\\Python39\\site-packages\\urllib3\\response.py:668\u001b[0m, in \u001b[0;36mHTTPResponse.read_chunked\u001b[1;34m(self, amt, decode_content)\u001b[0m\n\u001b[0;32m    665\u001b[0m     \u001b[39mreturn\u001b[39;00m\n\u001b[0;32m    667\u001b[0m \u001b[39mwhile\u001b[39;00m \u001b[39mTrue\u001b[39;00m:\n\u001b[1;32m--> 668\u001b[0m     \u001b[39mself\u001b[39;49m\u001b[39m.\u001b[39;49m_update_chunk_length()\n\u001b[0;32m    669\u001b[0m     \u001b[39mif\u001b[39;00m \u001b[39mself\u001b[39m\u001b[39m.\u001b[39mchunk_left \u001b[39m==\u001b[39m \u001b[39m0\u001b[39m:\n\u001b[0;32m    670\u001b[0m         \u001b[39mbreak\u001b[39;00m\n",
      "File \u001b[1;32m~\\AppData\\Roaming\\Python\\Python39\\site-packages\\urllib3\\response.py:600\u001b[0m, in \u001b[0;36mHTTPResponse._update_chunk_length\u001b[1;34m(self)\u001b[0m\n\u001b[0;32m    598\u001b[0m \u001b[39mif\u001b[39;00m \u001b[39mself\u001b[39m\u001b[39m.\u001b[39mchunk_left \u001b[39mis\u001b[39;00m \u001b[39mnot\u001b[39;00m \u001b[39mNone\u001b[39;00m:\n\u001b[0;32m    599\u001b[0m     \u001b[39mreturn\u001b[39;00m\n\u001b[1;32m--> 600\u001b[0m line \u001b[39m=\u001b[39m \u001b[39mself\u001b[39;49m\u001b[39m.\u001b[39;49m_fp\u001b[39m.\u001b[39;49mfp\u001b[39m.\u001b[39;49mreadline()\n\u001b[0;32m    601\u001b[0m line \u001b[39m=\u001b[39m line\u001b[39m.\u001b[39msplit(\u001b[39mb\u001b[39m\u001b[39m'\u001b[39m\u001b[39m;\u001b[39m\u001b[39m'\u001b[39m, \u001b[39m1\u001b[39m)[\u001b[39m0\u001b[39m]\n\u001b[0;32m    602\u001b[0m \u001b[39mtry\u001b[39;00m:\n",
      "File \u001b[1;32mD:\\Anaconda\\lib\\socket.py:704\u001b[0m, in \u001b[0;36mSocketIO.readinto\u001b[1;34m(self, b)\u001b[0m\n\u001b[0;32m    702\u001b[0m \u001b[39mwhile\u001b[39;00m \u001b[39mTrue\u001b[39;00m:\n\u001b[0;32m    703\u001b[0m     \u001b[39mtry\u001b[39;00m:\n\u001b[1;32m--> 704\u001b[0m         \u001b[39mreturn\u001b[39;00m \u001b[39mself\u001b[39;49m\u001b[39m.\u001b[39;49m_sock\u001b[39m.\u001b[39;49mrecv_into(b)\n\u001b[0;32m    705\u001b[0m     \u001b[39mexcept\u001b[39;00m timeout:\n\u001b[0;32m    706\u001b[0m         \u001b[39mself\u001b[39m\u001b[39m.\u001b[39m_timeout_occurred \u001b[39m=\u001b[39m \u001b[39mTrue\u001b[39;00m\n",
      "File \u001b[1;32m~\\AppData\\Roaming\\Python\\Python39\\site-packages\\urllib3\\contrib\\pyopenssl.py:309\u001b[0m, in \u001b[0;36mWrappedSocket.recv_into\u001b[1;34m(self, *args, **kwargs)\u001b[0m\n\u001b[0;32m    307\u001b[0m         \u001b[39mraise\u001b[39;00m\n\u001b[0;32m    308\u001b[0m \u001b[39mexcept\u001b[39;00m OpenSSL\u001b[39m.\u001b[39mSSL\u001b[39m.\u001b[39mWantReadError:\n\u001b[1;32m--> 309\u001b[0m     \u001b[39mif\u001b[39;00m \u001b[39mnot\u001b[39;00m util\u001b[39m.\u001b[39;49mwait_for_read(\u001b[39mself\u001b[39;49m\u001b[39m.\u001b[39;49msocket, \u001b[39mself\u001b[39;49m\u001b[39m.\u001b[39;49msocket\u001b[39m.\u001b[39;49mgettimeout()):\n\u001b[0;32m    310\u001b[0m         \u001b[39mraise\u001b[39;00m timeout(\u001b[39m'\u001b[39m\u001b[39mThe read operation timed out\u001b[39m\u001b[39m'\u001b[39m)\n\u001b[0;32m    311\u001b[0m     \u001b[39melse\u001b[39;00m:\n",
      "File \u001b[1;32m~\\AppData\\Roaming\\Python\\Python39\\site-packages\\urllib3\\util\\wait.py:143\u001b[0m, in \u001b[0;36mwait_for_read\u001b[1;34m(sock, timeout)\u001b[0m\n\u001b[0;32m    139\u001b[0m \u001b[39mdef\u001b[39;00m \u001b[39mwait_for_read\u001b[39m(sock, timeout\u001b[39m=\u001b[39m\u001b[39mNone\u001b[39;00m):\n\u001b[0;32m    140\u001b[0m     \u001b[39m\"\"\" Waits for reading to be available on a given socket.\u001b[39;00m\n\u001b[0;32m    141\u001b[0m \u001b[39m    Returns True if the socket is readable, or False if the timeout expired.\u001b[39;00m\n\u001b[0;32m    142\u001b[0m \u001b[39m    \"\"\"\u001b[39;00m\n\u001b[1;32m--> 143\u001b[0m     \u001b[39mreturn\u001b[39;00m wait_for_socket(sock, read\u001b[39m=\u001b[39;49m\u001b[39mTrue\u001b[39;49;00m, timeout\u001b[39m=\u001b[39;49mtimeout)\n",
      "File \u001b[1;32m~\\AppData\\Roaming\\Python\\Python39\\site-packages\\urllib3\\util\\wait.py:83\u001b[0m, in \u001b[0;36mselect_wait_for_socket\u001b[1;34m(sock, read, write, timeout)\u001b[0m\n\u001b[0;32m     77\u001b[0m \u001b[39m# When doing a non-blocking connect, most systems signal success by\u001b[39;00m\n\u001b[0;32m     78\u001b[0m \u001b[39m# marking the socket writable. Windows, though, signals success by marked\u001b[39;00m\n\u001b[0;32m     79\u001b[0m \u001b[39m# it as \"exceptional\". We paper over the difference by checking the write\u001b[39;00m\n\u001b[0;32m     80\u001b[0m \u001b[39m# sockets for both conditions. (The stdlib selectors module does the same\u001b[39;00m\n\u001b[0;32m     81\u001b[0m \u001b[39m# thing.)\u001b[39;00m\n\u001b[0;32m     82\u001b[0m fn \u001b[39m=\u001b[39m partial(select\u001b[39m.\u001b[39mselect, rcheck, wcheck, wcheck)\n\u001b[1;32m---> 83\u001b[0m rready, wready, xready \u001b[39m=\u001b[39m _retry_on_intr(fn, timeout)\n\u001b[0;32m     84\u001b[0m \u001b[39mreturn\u001b[39;00m \u001b[39mbool\u001b[39m(rready \u001b[39mor\u001b[39;00m wready \u001b[39mor\u001b[39;00m xready)\n",
      "File \u001b[1;32m~\\AppData\\Roaming\\Python\\Python39\\site-packages\\urllib3\\util\\wait.py:42\u001b[0m, in \u001b[0;36m_retry_on_intr\u001b[1;34m(fn, timeout)\u001b[0m\n\u001b[0;32m     41\u001b[0m \u001b[39mdef\u001b[39;00m \u001b[39m_retry_on_intr\u001b[39m(fn, timeout):\n\u001b[1;32m---> 42\u001b[0m     \u001b[39mreturn\u001b[39;00m fn(timeout)\n",
      "\u001b[1;31mKeyboardInterrupt\u001b[0m: "
     ]
    }
   ],
   "source": [
    "from time import time\n",
    "\n",
    "pair=[1,1]\n",
    "user= [1,1]\n",
    "video_info = {};\n",
    "while r.hlen(temp_table)>0:\n",
    "    name = r.get('curr')\n",
    "    #可从中断处返回\n",
    "\n",
    "    if name == None:\n",
    "        user= helper.get_user(r,temp_table)\n",
    "        name = user[0]\n",
    "        r.set('curr',name)\n",
    "        urls = re.sub('[\\[\\] \\']','',user[1]).split(',')\n",
    "        for url in urls:\n",
    "            r.hset(name,url,0)\n",
    "\n",
    "    while r.hlen(name) > 0:\n",
    "        url = helper.redis_hpop(r,name)  \n",
    "        try :\n",
    "            fetch_info =   helper.down_load_video_from_user_homepage(redis.ConnectionPool(host='127.0.0.1',port=6379,db =2,password='123456',decode_responses=True)  ,name,url)\n",
    "            video_info[url] = fetch_info\n",
    "            r.hdel(name,url)\n",
    "            time.sleep(random.uniform(0.1,1.1))\n",
    "        except Exception:\n",
    "            continue\n",
    "        \n",
    "    r.delete('curr',name)\n",
    "    helper.delete_user(r,temp_table,name)"
   ]
  },
  {
   "cell_type": "code",
   "execution_count": null,
   "metadata": {},
   "outputs": [],
   "source": []
  },
  {
   "cell_type": "code",
   "execution_count": null,
   "metadata": {},
   "outputs": [
    {
     "name": "stderr",
     "output_type": "stream",
     "text": [
      "C:\\Users\\Dr.Seydlitz\\AppData\\Local\\Temp\\ipykernel_110668\\495543122.py:14: DeprecationWarning: Redis.hmset() is deprecated. Use Redis.hset() instead.\n",
      "  r.hmset(temp_table, user)\n"
     ]
    }
   ],
   "source": [
    "#check_empty_dir_and_update_redis(\"./video\")\n"
   ]
  }
 ],
 "metadata": {
  "kernelspec": {
   "display_name": "Python 3.9.12 ('base')",
   "language": "python",
   "name": "python3"
  },
  "language_info": {
   "codemirror_mode": {
    "name": "ipython",
    "version": 3
   },
   "file_extension": ".py",
   "mimetype": "text/x-python",
   "name": "python",
   "nbconvert_exporter": "python",
   "pygments_lexer": "ipython3",
   "version": "3.9.12"
  },
  "orig_nbformat": 4,
  "vscode": {
   "interpreter": {
    "hash": "88279d2366fe020547cde40dd65aa0e3aa662a6ec1f3ca12d88834876c85e1a6"
   }
  }
 },
 "nbformat": 4,
 "nbformat_minor": 2
}

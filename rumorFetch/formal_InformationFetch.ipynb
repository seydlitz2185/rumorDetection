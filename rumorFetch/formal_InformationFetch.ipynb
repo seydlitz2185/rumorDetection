{
 "cells": [
  {
   "attachments": {},
   "cell_type": "markdown",
   "metadata": {},
   "source": [
    "#### 这是改进后用于信息检索研究的代码，可以用于进行毕业设计的数据抓取（应当作为第一个执行的脚本）"
   ]
  },
  {
   "cell_type": "code",
   "execution_count": 1,
   "metadata": {},
   "outputs": [],
   "source": [
    "import redis as redis\n",
    "import requests\n",
    "import random\n",
    "import numpy as np\n",
    "import selenium.webdriver as webdriver\n",
    "from selenium.webdriver.common.by import By\n",
    "import smallLib as helper\n",
    "from time import time\n",
    "import re\n",
    "import os\n",
    "#暴露了密码。但是这个密码是弱密码，不是重要的密码，所以就不改了\n",
    "pool = redis.ConnectionPool(host='127.0.0.1',port=6379,db=0,password='123456',decode_responses=True)   \n",
    "r = redis.Redis(connection_pool=pool)"
   ]
  },
  {
   "cell_type": "code",
   "execution_count": 3,
   "metadata": {},
   "outputs": [
    {
     "name": "stderr",
     "output_type": "stream",
     "text": [
      "C:\\Users\\Dr.Seydlitz\\AppData\\Local\\Temp\\ipykernel_29364\\300243390.py:12: DeprecationWarning: Redis.hmset() is deprecated. Use Redis.hset() instead.\n",
      "  r.hmset(temp_table,table)\n"
     ]
    },
    {
     "name": "stdout",
     "output_type": "stream",
     "text": [
      "962\n",
      "1140\n",
      "272\n",
      "316\n",
      "妇科杨青梅教授\n",
      "417\n",
      "妇产科李主任\n",
      "https://www.douyin.com/user/MS4wLjABAAAASgxFuOCGgcgubyGx7KQOfHUs0IQ67mdr4lc8v274jlF3mhoPtlWEBWK9EBFTq5Vg\n",
      "👩🏻‍⚕️妇产科陈姐👩🏻‍⚕️\n",
      "254\n",
      "妇科郑晨思博士\n",
      "606\n",
      "妇产科梁培琴医生\n",
      "171\n",
      "妇产科舒大夫\n",
      "1348\n",
      "恩哥聊健康\n",
      "79\n",
      "妇科主任医师周坚红\n"
     ]
    },
    {
     "name": "stderr",
     "output_type": "stream",
     "text": [
      "Exception ignored in: <function Service.__del__ at 0x000001E9599C2480>\n",
      "Traceback (most recent call last):\n",
      "  File \"d:\\Anaconda\\envs\\pygptest\\Lib\\site-packages\\selenium\\webdriver\\common\\service.py\", line 183, in __del__\n",
      "    self.stop()\n",
      "  File \"d:\\Anaconda\\envs\\pygptest\\Lib\\site-packages\\selenium\\webdriver\\common\\service.py\", line 149, in stop\n",
      "    self.send_remote_shutdown_command()\n",
      "  File \"d:\\Anaconda\\envs\\pygptest\\Lib\\site-packages\\selenium\\webdriver\\common\\service.py\", line 133, in send_remote_shutdown_command\n",
      "    if not self.is_connectable():\n",
      "           ^^^^^^^^^^^^^^^^^^^^^\n",
      "  File \"d:\\Anaconda\\envs\\pygptest\\Lib\\site-packages\\selenium\\webdriver\\common\\service.py\", line 122, in is_connectable\n",
      "    return utils.is_connectable(self.port)\n",
      "           ^^^^^^^^^^^^^^^^^^^^^^^^^^^^^^^\n",
      "  File \"d:\\Anaconda\\envs\\pygptest\\Lib\\site-packages\\selenium\\webdriver\\common\\utils.py\", line 102, in is_connectable\n",
      "    socket_ = socket.create_connection((host, port), 1)\n",
      "              ^^^^^^^^^^^^^^^^^^^^^^^^^^^^^^^^^^^^^^^^^\n",
      "  File \"d:\\Anaconda\\envs\\pygptest\\Lib\\socket.py\", line 842, in create_connection\n",
      "    exceptions.clear()  # raise only the last error\n",
      "    ^^^^^^^^^^^^^^^^^^\n",
      "KeyboardInterrupt: \n"
     ]
    }
   ],
   "source": [
    "#请在redistribution中创建一个InformationResearch的hash表，用来存储用户的信息\n",
    "origin_table = \"InformationResearch\"\n",
    "temp_table = \"InformationResearch_temp\"\n",
    "\n",
    "#获取用户的信息\n",
    "table =  r.hgetall(origin_table)\n",
    "\n",
    "keys = r.keys()\n",
    "if temp_table in keys:\n",
    "    pass\n",
    "else:\n",
    "    r.hmset(temp_table,table)\n",
    "user_videos ={}\n",
    "#获取用户的视频信息\n",
    "while r.hlen(temp_table)>0:\n",
    "#由于抖音用户主页现在已经开始弹出登录框，所以这里使用selenium来获取用户主页的视频数\n",
    "        try :\n",
    "            user,url = helper.get_user(r,temp_table)\n",
    "            #userHomepage = helper.getHtml(url).text.encode('utf-8')\n",
    "           # video_num = int(re.findall(\"\\\"user-tab-count\\\">(.*?)</span>\",userHomepage)[0])\n",
    "            href ,video_num= helper.get_all_video_form_homepage(url)\n",
    "            #douyin-right-container > div > div > div > div:nth-child(2) > div:nth-child(1) > div > div > div > div > h2 > span:nth-child(2)\n",
    "            if video_num != 0 and 0.95*video_num <= len(href) :\n",
    "                r.hdel(temp_table,user)\n",
    "                r.hset(\"InformationResearch_videos\",user,str(href))\n",
    "            else:\n",
    "                print(user)\n",
    "            user_videos[user] = str(href)\n",
    "            time.sleep(random.uniform(0.1,1.1))\n",
    "        except Exception:\n",
    "            continue\n",
    "\n",
    "r.delete('curr',user)\n",
    "cnt = 0\n",
    "for key in user_videos.keys():\n",
    "       cnt+= len(eval(user_videos[key]))\n",
    "r.hmset(\"InformationResearch_videos\",user_videos)\n",
    "\n"
   ]
  },
  {
   "cell_type": "code",
   "execution_count": null,
   "metadata": {},
   "outputs": [
    {
     "name": "stderr",
     "output_type": "stream",
     "text": [
      "C:\\Users\\Dr.Seydlitz\\AppData\\Local\\Temp\\ipykernel_20040\\3540862808.py:5: DeprecationWarning: Redis.hmset() is deprecated. Use Redis.hset() instead.\n",
      "  r.hmset(temp_download_table,table)\n"
     ]
    }
   ],
   "source": [
    "origin_table = \"InformationResearch_videos\"\n",
    "temp_download_table = \"InformationResearch_download_temp\"\n",
    "\n",
    "table =  r.hgetall(origin_table)\n",
    "r.hmset(temp_download_table,table)\n",
    "\n",
    "pair=[1,1]\n",
    "user= [1,1]\n",
    "video_info = {};\n"
   ]
  },
  {
   "cell_type": "code",
   "execution_count": null,
   "metadata": {},
   "outputs": [],
   "source": [
    "while r.hlen(temp_download_table)>0:\n",
    "    name = r.get('curr')\n",
    "    #可从中断处返回\n",
    "\n",
    "    if name == None:\n",
    "        user= helper.get_user(r,temp_download_table)\n",
    "        name = user[0]\n",
    "        r.set('curr',name)\n",
    "        urls = re.sub('[\\[\\] \\']','',user[1]).split(',')\n",
    "        for url in urls:\n",
    "            r.hset(name,url,0)\n",
    "\n",
    "    while r.hlen(name) > 0:\n",
    "        url = helper.redis_hpop(r,name)  \n",
    "        try :\n",
    "            helper.down_load_video_from_user_homepage(redis.ConnectionPool(host='127.0.0.1',port=6379,db =0,password='123456',decode_responses=True)  ,name,url)\n",
    "            r.hdel(name,url)\n",
    "            time.sleep(random.uniform(0.1,1.1))\n",
    "        except Exception:\n",
    "            continue\n",
    "        \n",
    "    r.delete('curr',name)\n",
    "    helper.delete_user(r,temp_download_table,name)"
   ]
  },
  {
   "cell_type": "code",
   "execution_count": null,
   "metadata": {},
   "outputs": [],
   "source": [
    "helper.restore_table(pool,origin_table,temp_download_table,)\n",
    "helper.check_empty_dir_and_update_redis(pool,\"./video\",temp_download_table,tolerence=0.90)"
   ]
  }
 ],
 "metadata": {
  "kernelspec": {
   "display_name": "pygptest",
   "language": "python",
   "name": "python3"
  },
  "language_info": {
   "codemirror_mode": {
    "name": "ipython",
    "version": 3
   },
   "file_extension": ".py",
   "mimetype": "text/x-python",
   "name": "python",
   "nbconvert_exporter": "python",
   "pygments_lexer": "ipython3",
   "version": "3.11.0"
  },
  "orig_nbformat": 4,
  "vscode": {
   "interpreter": {
    "hash": "1278e06ffbaa9b7c8b2ac9bd6f170e661a1f994a7e5e38dc537772809793ceae"
   }
  }
 },
 "nbformat": 4,
 "nbformat_minor": 2
}

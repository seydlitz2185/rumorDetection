{
 "cells": [
  {
   "cell_type": "code",
   "execution_count": 1,
   "metadata": {},
   "outputs": [],
   "source": [
    "import regex as re\n",
    "import pandas as pd\n",
    "import os\n",
    "import random\n",
    "import numpy as np\n",
    "from imblearn.over_sampling import SMOTE\n",
    "import warnings\n",
    "warnings.filterwarnings(\"ignore\", category=UserWarning, module='your module name')"
   ]
  },
  {
   "cell_type": "code",
   "execution_count": 2,
   "metadata": {},
   "outputs": [],
   "source": [
    "sentiment_dict = np.load('sentiment_dict.npy',allow_pickle=True).item()\n",
    "word_dict = np.load('word_dict.npz',allow_pickle=True)['word_dict'].item()\n",
    "df = pd.read_csv('data.csv',index_col=0)\n",
    "sentiments = df.sentiments\n",
    "index = df.index\n",
    "docs = df['seg_text'].values\n",
    "fastText_vecs = []\n",
    "for i in range(len(docs)):\n",
    "    docs[i] = docs[i].split(' ')\n",
    "    vec= np.zeros(300)\n",
    "    for j in range(len(docs[i])):\n",
    "        if docs[i][j] in word_dict:\n",
    "            vec += word_dict[docs[i][j]]\n",
    "    fastText_vecs.append(vec)\n",
    "fastText_vecs_100 = np.array([fastText_vecs[i][:100] for i in range(len(fastText_vecs))])\n",
    "fastText_vecs_300 = np.array(fastText_vecs)    \n",
    "columns100 = ['topic{}'.format(i) for i in range(fastText_vecs_100.shape[1])]\n",
    "columns300 = ['topic{}'.format(i) for i in range(fastText_vecs_300.shape[1])]\n",
    "fastText_doc_100 = pd.DataFrame(fastText_vecs_100,columns=columns100,index=index)\n",
    "fastText_vecs_100_sentiment = np.array([fastText_vecs_100[i]*sentiments[i] for i in range(len(fastText_vecs_100))])\n",
    "fastText_doc_100_sentiment = pd.DataFrame(fastText_vecs_100_sentiment,columns=columns100,index=index)\n",
    "fastText_doc_300 = pd.DataFrame(fastText_vecs_300,columns=columns300,index=index)\n",
    "fastText_vecs_300_sentiment = np.array([fastText_vecs_300[i]*sentiments[i] for i in range(len(fastText_vecs_300))])\n",
    "fastText_doc_300_sentiment = pd.DataFrame(fastText_vecs_300_sentiment,columns=columns300,index=index)"
   ]
  },
  {
   "cell_type": "code",
   "execution_count": 3,
   "metadata": {},
   "outputs": [],
   "source": [
    "from sklearn.discriminant_analysis import LinearDiscriminantAnalysis as LDA\n",
    "from sklearn.model_selection import train_test_split\n",
    "\n",
    "def lda_predic (name,vector,df,over_sampling=False):\n",
    "    X_train,X_test,y_train,y_test = train_test_split(vector,df.rumor,test_size=0.2 ,random_state=42)\n",
    "    if over_sampling:\n",
    "        smote = SMOTE(random_state=42)\n",
    "        # 进行过采样\n",
    "        X_train_res, y_train_res = smote.fit_resample(X_train, y_train)\n",
    "        print(\"过采样前训练集中类别0的数量：\", sum(y_train==0))\n",
    "        print(\"过采样前训练集中类别1的数量：\", sum(y_train==1))\n",
    "\n",
    "        print(\"过采样后训练集中类别0的数量：\", sum(y_train_res==0))\n",
    "        print(\"过采样后训练集中类别1的数量：\", sum(y_train_res==1))\n",
    "\n",
    "    lda = LDA(n_components=1)\n",
    "    lda = lda.fit(X_train_res, y_train_res)\n",
    "    df[name] = lda.predict(vector)\n",
    "    round(float(lda.score(X_test, y_test)), 3)\n",
    "    from sklearn import metrics\n",
    "    y_true = df.loc[y_test.index].rumor\n",
    "    y_pred = df.loc[y_test.index][name]\n",
    "    loss_total = 0\n",
    "    acc = metrics.accuracy_score(y_true, y_pred)\n",
    "    report = metrics.classification_report(y_true, y_pred, target_names=[\"non-rumor\",\"rumor\"], digits=4)\n",
    "    confusion = metrics.confusion_matrix(y_true, y_pred)\n",
    "    print(report)\n",
    "    with open(\"report/\"+name+'.txt', 'w', encoding='utf-8') as f:\n",
    "        print(report,file=f)\n",
    "    print(confusion)\n",
    "    with open(\"report_matrix/\"+name+'_matrix'+'.txt', 'w', encoding='utf-8') as f:\n",
    "        print(confusion,file=f)\n",
    "    np.savez(\"report_matrix/\"+name+'_matrix'+'.npz', matrix= confusion)"
   ]
  },
  {
   "cell_type": "code",
   "execution_count": 4,
   "metadata": {},
   "outputs": [
    {
     "name": "stdout",
     "output_type": "stream",
     "text": [
      "过采样前训练集中类别0的数量： 1502\n",
      "过采样前训练集中类别1的数量： 725\n",
      "过采样后训练集中类别0的数量： 1502\n",
      "过采样后训练集中类别1的数量： 1502\n",
      "              precision    recall  f1-score   support\n",
      "\n",
      "   non-rumor     1.0000    0.6883    0.8154       369\n",
      "       rumor     0.6205    1.0000    0.7658       188\n",
      "\n",
      "    accuracy                         0.7935       557\n",
      "   macro avg     0.8102    0.8442    0.7906       557\n",
      "weighted avg     0.8719    0.7935    0.7987       557\n",
      "\n",
      "[[254 115]\n",
      " [  0 188]]\n",
      "过采样前训练集中类别0的数量： 1502\n",
      "过采样前训练集中类别1的数量： 725\n",
      "过采样后训练集中类别0的数量： 1502\n",
      "过采样后训练集中类别1的数量： 1502\n",
      "              precision    recall  f1-score   support\n",
      "\n",
      "   non-rumor     0.9905    0.5637    0.7185       369\n",
      "       rumor     0.5360    0.9894    0.6953       188\n",
      "\n",
      "    accuracy                         0.7074       557\n",
      "   macro avg     0.7632    0.7765    0.7069       557\n",
      "weighted avg     0.8371    0.7074    0.7107       557\n",
      "\n",
      "[[208 161]\n",
      " [  2 186]]\n",
      "过采样前训练集中类别0的数量： 1502\n",
      "过采样前训练集中类别1的数量： 725\n",
      "过采样后训练集中类别0的数量： 1502\n",
      "过采样后训练集中类别1的数量： 1502\n",
      "              precision    recall  f1-score   support\n",
      "\n",
      "   non-rumor     0.9878    0.6558    0.7883       369\n",
      "       rumor     0.5929    0.9840    0.7400       188\n",
      "\n",
      "    accuracy                         0.7666       557\n",
      "   macro avg     0.7904    0.8199    0.7641       557\n",
      "weighted avg     0.8545    0.7666    0.7720       557\n",
      "\n",
      "[[242 127]\n",
      " [  3 185]]\n",
      "过采样前训练集中类别0的数量： 1502\n",
      "过采样前训练集中类别1的数量： 725\n",
      "过采样后训练集中类别0的数量： 1502\n",
      "过采样后训练集中类别1的数量： 1502\n",
      "              precision    recall  f1-score   support\n",
      "\n",
      "   non-rumor     0.9455    0.5637    0.7063       369\n",
      "       rumor     0.5223    0.9362    0.6705       188\n",
      "\n",
      "    accuracy                         0.6894       557\n",
      "   macro avg     0.7339    0.7499    0.6884       557\n",
      "weighted avg     0.8026    0.6894    0.6942       557\n",
      "\n",
      "[[208 161]\n",
      " [ 12 176]]\n"
     ]
    }
   ],
   "source": [
    "lda_predic('fastText_lda_100',fastText_doc_100,df,over_sampling=True)\n",
    "lda_predic('fastText_lda_100_sentiment',fastText_doc_100_sentiment,df,over_sampling=True)\n",
    "lda_predic('fastText_lda_300',fastText_doc_300,df,over_sampling=True)\n",
    "lda_predic('fastText_lda_300_sentiment',fastText_doc_300_sentiment,df,over_sampling=True)"
   ]
  }
 ],
 "metadata": {
  "kernelspec": {
   "display_name": "d2l",
   "language": "python",
   "name": "python3"
  },
  "language_info": {
   "codemirror_mode": {
    "name": "ipython",
    "version": 3
   },
   "file_extension": ".py",
   "mimetype": "text/x-python",
   "name": "python",
   "nbconvert_exporter": "python",
   "pygments_lexer": "ipython3",
   "version": "3.9.16"
  },
  "orig_nbformat": 4,
  "vscode": {
   "interpreter": {
    "hash": "e6d40a5097db4c11f3975da84c5456511726d6f156896da7e31bb0c17b283947"
   }
  }
 },
 "nbformat": 4,
 "nbformat_minor": 2
}

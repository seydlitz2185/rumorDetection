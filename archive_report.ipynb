{
 "cells": [
  {
   "cell_type": "code",
   "execution_count": 4,
   "metadata": {},
   "outputs": [],
   "source": [
    "import os\n",
    "import regex as re\n",
    "import pandas as pd"
   ]
  },
  {
   "cell_type": "code",
   "execution_count": 5,
   "metadata": {},
   "outputs": [],
   "source": [
    "reports = [file   for file in os.listdir('report') if re.match(r'.*\\.txt',file)]\n",
    "matrices = [file   for file in os.listdir('report_matrix') if re.match(r'.*\\.txt',file)]\n",
    "\n",
    "report_text = []\n",
    "matricx_text = []\n",
    "\n",
    "cloumns = ['model','mode','report','matrix',\n",
    "           'precision_0','recall_0','f1_0','support_0',\n",
    "           'precision_1','recall_1','f1_1','support_1',\n",
    "           'accuracy','macro avg_precision','macro avg_recall','macro avg_f1','weighted avg_precision','weighted avg_recall','weighted avg_f1',]\n",
    "\n",
    "df = pd.DataFrame(columns=cloumns)\n",
    "\n",
    "reports = sorted(reports)\n",
    "for i in range(len(reports)):\n",
    "    with open('report_matrix/'+matrices[i],'r') as f:\n",
    "        matrix = f.read()\n",
    "        nums = re.findall(r'[0-9]+',matrix)\n",
    "        nums = [[nums[0],nums[1]], [nums[2],nums[3]]]\n",
    "    with open('report/'+reports[i],'r') as f:\n",
    "        report = reports[i].replace('.txt','')\n",
    "        text = f.read()\n",
    "        scores = re.findall(r'[0-9]+.[0-9]+',text)\n",
    "        df.loc[i,'model'] = report.split('_')[0]\n",
    "        df.loc[i,'mode'] = str('_'.join(report.split('_')[1:]))\n",
    "        df.loc[i,'report'] = text\n",
    "        df.loc[i,'matrix'] = nums\n",
    "        df.loc[i,'precision_0'] = scores[0]\n",
    "        df.loc[i,'recall_0'] = scores[1]\n",
    "        df.loc[i,'f1_0'] = scores[2]\n",
    "        df.loc[i,'support_0'] = scores[3]\n",
    "        df.loc[i,'precision_1'] = scores[4]\n",
    "        df.loc[i,'recall_1'] = scores[5]\n",
    "        df.loc[i,'f1_1'] = scores[6]\n",
    "        df.loc[i,'support_1'] = scores[7]\n",
    "        df.loc[i,'accuracy'] = scores[8]\n",
    "        df.loc[i,'macro avg_precision'] = scores[10]\n",
    "        df.loc[i,'macro avg_recall'] = scores[11]\n",
    "        df.loc[i,'macro avg_f1'] = scores[12]\n",
    "        df.loc[i,'weighted avg_precision'] = scores[14]\n",
    "        df.loc[i,'weighted avg_recall'] = scores[15]\n",
    "        df.loc[i,'weighted avg_f1'] = scores[16]\n",
    "\n"
   ]
  },
  {
   "cell_type": "code",
   "execution_count": 6,
   "metadata": {},
   "outputs": [],
   "source": [
    "if os.path.exists('report_csv') == False:\n",
    "    os.mkdir('report_csv')\n",
    "    df.to_csv('report_csv/report_1.csv',index=False)\n",
    "else:\n",
    "    report_csv = [file   for file in os.listdir('report_csv') if re.match(r'.*\\.csv',file)]\n",
    "    df.to_csv('report_csv/report_'+str(len(report_csv)+1)+'.csv',index=False)"
   ]
  }
 ],
 "metadata": {
  "kernelspec": {
   "display_name": "d2l",
   "language": "python",
   "name": "python3"
  },
  "language_info": {
   "codemirror_mode": {
    "name": "ipython",
    "version": 3
   },
   "file_extension": ".py",
   "mimetype": "text/x-python",
   "name": "python",
   "nbconvert_exporter": "python",
   "pygments_lexer": "ipython3",
   "version": "3.9.16"
  },
  "orig_nbformat": 4
 },
 "nbformat": 4,
 "nbformat_minor": 2
}
